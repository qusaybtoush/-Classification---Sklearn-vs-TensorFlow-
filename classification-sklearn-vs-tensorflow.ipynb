{
 "cells": [
  {
   "cell_type": "markdown",
   "id": "ade46258",
   "metadata": {
    "papermill": {
     "duration": 0.019144,
     "end_time": "2024-06-04T12:29:52.521771",
     "exception": false,
     "start_time": "2024-06-04T12:29:52.502627",
     "status": "completed"
    },
    "tags": []
   },
   "source": [
    "\n",
    "# <p><center style=\"background-color:#f89fff;font-family:Gabriola;color:#662200;font-size:210%;text-align:center;border-radius:10px 70px;\">   Credit Card Fraud Detection 📰 </center></p>"
   ]
  },
  {
   "cell_type": "markdown",
   "id": "4318d040",
   "metadata": {
    "papermill": {
     "duration": 0.017946,
     "end_time": "2024-06-04T12:29:52.558199",
     "exception": false,
     "start_time": "2024-06-04T12:29:52.540253",
     "status": "completed"
    },
    "tags": []
   },
   "source": [
    "\n",
    "# <p><center style=\"background-color:#f89fee;font-family:Gabriola;color:#665299;font-size:210%;text-align:center;border-radius:10px 60px;\">   Classification - Sklearn vs TensorFlow </center></p>"
   ]
  },
  {
   "cell_type": "markdown",
   "id": "285597fc",
   "metadata": {
    "papermill": {
     "duration": 0.017858,
     "end_time": "2024-06-04T12:29:52.594038",
     "exception": false,
     "start_time": "2024-06-04T12:29:52.576180",
     "status": "completed"
    },
    "tags": []
   },
   "source": [
    "# <p style=\"padding:10px;background-color:#d896ff;margin:0;color:#660066;font-family:newtimeroman;font-size:100%;text-align:center;border-radius: 15px 50px;overflow:hidden;font-weight:500\">Table of Contents 🔠</p>"
   ]
  },
  {
   "cell_type": "markdown",
   "id": "b2be6e65",
   "metadata": {
    "papermill": {
     "duration": 0.018653,
     "end_time": "2024-06-04T12:29:52.632097",
     "exception": false,
     "start_time": "2024-06-04T12:29:52.613444",
     "status": "completed"
    },
    "tags": []
   },
   "source": [
    "# 🎈 About The DataSet\n",
    "\n",
    "#### Context\n",
    "- It is important that credit card companies are able to recognize fraudulent credit card transactions so that customers are not charged for items that they did not purchase.\n",
    "\n",
    "#### Content\n",
    "- The dataset contains transactions made by credit cards in September 2013 by European cardholders.\n",
    "- This dataset presents transactions that occurred in two days, where we have 492 frauds out of 284,807 transactions. The dataset is highly unbalanced, the positive class (frauds) account for 0.172% of all transactions.\n",
    "\n",
    "- It contains only numerical input variables which are the result of a PCA transformation. Unfortunately, due to confidentiality issues, we cannot provide the original features and more background information about the data. Features V1, V2, … V28 are the principal components obtained with PCA, the only features which have not been transformed with PCA are 'Time' and 'Amount'. Feature 'Time' contains the seconds elapsed between each transaction and the first transaction in the dataset. The feature 'Amount' is the transaction Amount, this feature can be used for example-dependant cost-sensitive learning. Feature 'Class' is the response variable and it takes value 1 in case of fraud and 0 otherwise.\n"
   ]
  },
  {
   "cell_type": "markdown",
   "id": "7e015e57",
   "metadata": {
    "papermill": {
     "duration": 0.017805,
     "end_time": "2024-06-04T12:29:52.667950",
     "exception": false,
     "start_time": "2024-06-04T12:29:52.650145",
     "status": "completed"
    },
    "tags": []
   },
   "source": [
    "# The Mission 🎯 :\n",
    "\n",
    "- 1️⃣ Make the Analysis\n",
    "- 2️⃣ Make ML- Model - Classification - Before Feature Selection || using Sklearn \n",
    "- 3️⃣ Make Deep learning - Model - Classification - Before Feature Selection  || using  TensorFlow\n",
    "\n",
    "- 4️⃣ Make ML- Model - Classification - After Feature Selection  using  ||  Sklearn \n",
    "- 5️⃣Make Deep learning - Classification - After Feature Selection using  ||  TensorFlow "
   ]
  },
  {
   "cell_type": "code",
   "execution_count": 1,
   "id": "d291d79d",
   "metadata": {
    "execution": {
     "iopub.execute_input": "2024-06-04T12:29:52.706305Z",
     "iopub.status.busy": "2024-06-04T12:29:52.705901Z",
     "iopub.status.idle": "2024-06-04T12:29:54.959993Z",
     "shell.execute_reply": "2024-06-04T12:29:54.958794Z"
    },
    "papermill": {
     "duration": 2.276704,
     "end_time": "2024-06-04T12:29:54.962918",
     "exception": false,
     "start_time": "2024-06-04T12:29:52.686214",
     "status": "completed"
    },
    "tags": []
   },
   "outputs": [],
   "source": [
    "#Importing the basic librarires for analysis\n",
    "\n",
    "import numpy as np\n",
    "import pandas as pd\n",
    "import seaborn as sns\n",
    "import matplotlib.pyplot as plt\n",
    "plt.style.use(\"ggplot\")  #using style ggplot\n"
   ]
  },
  {
   "cell_type": "code",
   "execution_count": 2,
   "id": "46580687",
   "metadata": {
    "execution": {
     "iopub.execute_input": "2024-06-04T12:29:55.001345Z",
     "iopub.status.busy": "2024-06-04T12:29:55.000773Z",
     "iopub.status.idle": "2024-06-04T12:29:59.551095Z",
     "shell.execute_reply": "2024-06-04T12:29:59.550028Z"
    },
    "papermill": {
     "duration": 4.572405,
     "end_time": "2024-06-04T12:29:59.553631",
     "exception": false,
     "start_time": "2024-06-04T12:29:54.981226",
     "status": "completed"
    },
    "tags": []
   },
   "outputs": [
    {
     "data": {
      "text/html": [
       "<div>\n",
       "<style scoped>\n",
       "    .dataframe tbody tr th:only-of-type {\n",
       "        vertical-align: middle;\n",
       "    }\n",
       "\n",
       "    .dataframe tbody tr th {\n",
       "        vertical-align: top;\n",
       "    }\n",
       "\n",
       "    .dataframe thead th {\n",
       "        text-align: right;\n",
       "    }\n",
       "</style>\n",
       "<table border=\"1\" class=\"dataframe\">\n",
       "  <thead>\n",
       "    <tr style=\"text-align: right;\">\n",
       "      <th></th>\n",
       "      <th>Time</th>\n",
       "      <th>V1</th>\n",
       "      <th>V2</th>\n",
       "      <th>V3</th>\n",
       "      <th>V4</th>\n",
       "      <th>V5</th>\n",
       "      <th>V6</th>\n",
       "      <th>V7</th>\n",
       "      <th>V8</th>\n",
       "      <th>V9</th>\n",
       "      <th>...</th>\n",
       "      <th>V21</th>\n",
       "      <th>V22</th>\n",
       "      <th>V23</th>\n",
       "      <th>V24</th>\n",
       "      <th>V25</th>\n",
       "      <th>V26</th>\n",
       "      <th>V27</th>\n",
       "      <th>V28</th>\n",
       "      <th>Amount</th>\n",
       "      <th>Class</th>\n",
       "    </tr>\n",
       "  </thead>\n",
       "  <tbody>\n",
       "    <tr>\n",
       "      <th>0</th>\n",
       "      <td>0.0</td>\n",
       "      <td>-1.359807</td>\n",
       "      <td>-0.072781</td>\n",
       "      <td>2.536347</td>\n",
       "      <td>1.378155</td>\n",
       "      <td>-0.338321</td>\n",
       "      <td>0.462388</td>\n",
       "      <td>0.239599</td>\n",
       "      <td>0.098698</td>\n",
       "      <td>0.363787</td>\n",
       "      <td>...</td>\n",
       "      <td>-0.018307</td>\n",
       "      <td>0.277838</td>\n",
       "      <td>-0.110474</td>\n",
       "      <td>0.066928</td>\n",
       "      <td>0.128539</td>\n",
       "      <td>-0.189115</td>\n",
       "      <td>0.133558</td>\n",
       "      <td>-0.021053</td>\n",
       "      <td>149.62</td>\n",
       "      <td>0</td>\n",
       "    </tr>\n",
       "    <tr>\n",
       "      <th>1</th>\n",
       "      <td>0.0</td>\n",
       "      <td>1.191857</td>\n",
       "      <td>0.266151</td>\n",
       "      <td>0.166480</td>\n",
       "      <td>0.448154</td>\n",
       "      <td>0.060018</td>\n",
       "      <td>-0.082361</td>\n",
       "      <td>-0.078803</td>\n",
       "      <td>0.085102</td>\n",
       "      <td>-0.255425</td>\n",
       "      <td>...</td>\n",
       "      <td>-0.225775</td>\n",
       "      <td>-0.638672</td>\n",
       "      <td>0.101288</td>\n",
       "      <td>-0.339846</td>\n",
       "      <td>0.167170</td>\n",
       "      <td>0.125895</td>\n",
       "      <td>-0.008983</td>\n",
       "      <td>0.014724</td>\n",
       "      <td>2.69</td>\n",
       "      <td>0</td>\n",
       "    </tr>\n",
       "    <tr>\n",
       "      <th>2</th>\n",
       "      <td>1.0</td>\n",
       "      <td>-1.358354</td>\n",
       "      <td>-1.340163</td>\n",
       "      <td>1.773209</td>\n",
       "      <td>0.379780</td>\n",
       "      <td>-0.503198</td>\n",
       "      <td>1.800499</td>\n",
       "      <td>0.791461</td>\n",
       "      <td>0.247676</td>\n",
       "      <td>-1.514654</td>\n",
       "      <td>...</td>\n",
       "      <td>0.247998</td>\n",
       "      <td>0.771679</td>\n",
       "      <td>0.909412</td>\n",
       "      <td>-0.689281</td>\n",
       "      <td>-0.327642</td>\n",
       "      <td>-0.139097</td>\n",
       "      <td>-0.055353</td>\n",
       "      <td>-0.059752</td>\n",
       "      <td>378.66</td>\n",
       "      <td>0</td>\n",
       "    </tr>\n",
       "    <tr>\n",
       "      <th>3</th>\n",
       "      <td>1.0</td>\n",
       "      <td>-0.966272</td>\n",
       "      <td>-0.185226</td>\n",
       "      <td>1.792993</td>\n",
       "      <td>-0.863291</td>\n",
       "      <td>-0.010309</td>\n",
       "      <td>1.247203</td>\n",
       "      <td>0.237609</td>\n",
       "      <td>0.377436</td>\n",
       "      <td>-1.387024</td>\n",
       "      <td>...</td>\n",
       "      <td>-0.108300</td>\n",
       "      <td>0.005274</td>\n",
       "      <td>-0.190321</td>\n",
       "      <td>-1.175575</td>\n",
       "      <td>0.647376</td>\n",
       "      <td>-0.221929</td>\n",
       "      <td>0.062723</td>\n",
       "      <td>0.061458</td>\n",
       "      <td>123.50</td>\n",
       "      <td>0</td>\n",
       "    </tr>\n",
       "    <tr>\n",
       "      <th>4</th>\n",
       "      <td>2.0</td>\n",
       "      <td>-1.158233</td>\n",
       "      <td>0.877737</td>\n",
       "      <td>1.548718</td>\n",
       "      <td>0.403034</td>\n",
       "      <td>-0.407193</td>\n",
       "      <td>0.095921</td>\n",
       "      <td>0.592941</td>\n",
       "      <td>-0.270533</td>\n",
       "      <td>0.817739</td>\n",
       "      <td>...</td>\n",
       "      <td>-0.009431</td>\n",
       "      <td>0.798278</td>\n",
       "      <td>-0.137458</td>\n",
       "      <td>0.141267</td>\n",
       "      <td>-0.206010</td>\n",
       "      <td>0.502292</td>\n",
       "      <td>0.219422</td>\n",
       "      <td>0.215153</td>\n",
       "      <td>69.99</td>\n",
       "      <td>0</td>\n",
       "    </tr>\n",
       "  </tbody>\n",
       "</table>\n",
       "<p>5 rows × 31 columns</p>\n",
       "</div>"
      ],
      "text/plain": [
       "   Time        V1        V2        V3        V4        V5        V6        V7  \\\n",
       "0   0.0 -1.359807 -0.072781  2.536347  1.378155 -0.338321  0.462388  0.239599   \n",
       "1   0.0  1.191857  0.266151  0.166480  0.448154  0.060018 -0.082361 -0.078803   \n",
       "2   1.0 -1.358354 -1.340163  1.773209  0.379780 -0.503198  1.800499  0.791461   \n",
       "3   1.0 -0.966272 -0.185226  1.792993 -0.863291 -0.010309  1.247203  0.237609   \n",
       "4   2.0 -1.158233  0.877737  1.548718  0.403034 -0.407193  0.095921  0.592941   \n",
       "\n",
       "         V8        V9  ...       V21       V22       V23       V24       V25  \\\n",
       "0  0.098698  0.363787  ... -0.018307  0.277838 -0.110474  0.066928  0.128539   \n",
       "1  0.085102 -0.255425  ... -0.225775 -0.638672  0.101288 -0.339846  0.167170   \n",
       "2  0.247676 -1.514654  ...  0.247998  0.771679  0.909412 -0.689281 -0.327642   \n",
       "3  0.377436 -1.387024  ... -0.108300  0.005274 -0.190321 -1.175575  0.647376   \n",
       "4 -0.270533  0.817739  ... -0.009431  0.798278 -0.137458  0.141267 -0.206010   \n",
       "\n",
       "        V26       V27       V28  Amount  Class  \n",
       "0 -0.189115  0.133558 -0.021053  149.62      0  \n",
       "1  0.125895 -0.008983  0.014724    2.69      0  \n",
       "2 -0.139097 -0.055353 -0.059752  378.66      0  \n",
       "3 -0.221929  0.062723  0.061458  123.50      0  \n",
       "4  0.502292  0.219422  0.215153   69.99      0  \n",
       "\n",
       "[5 rows x 31 columns]"
      ]
     },
     "execution_count": 2,
     "metadata": {},
     "output_type": "execute_result"
    }
   ],
   "source": [
    "#Importing the dataset\n",
    "\n",
    "df=pd.read_csv(\"/kaggle/input/creditcardfraud/creditcard.csv\")\n",
    "\n",
    "# look the dataset\n",
    "df.head()"
   ]
  },
  {
   "cell_type": "markdown",
   "id": "38e513cc",
   "metadata": {
    "papermill": {
     "duration": 0.018622,
     "end_time": "2024-06-04T12:29:59.591050",
     "exception": false,
     "start_time": "2024-06-04T12:29:59.572428",
     "status": "completed"
    },
    "tags": []
   },
   "source": [
    "<a id=\"2\"></a>\n",
    "# <p style=\"padding:10px;background-color:#ff96ff;margin:0;color:#666600;font-family:newtimeroman;font-size:100%;text-align:center;border-radius: 15px 50px;overflow:hidden;font-weight:500\">1️⃣ Explore the Data and Make Preprocess </p>"
   ]
  },
  {
   "cell_type": "code",
   "execution_count": 3,
   "id": "8fc6bbd9",
   "metadata": {
    "execution": {
     "iopub.execute_input": "2024-06-04T12:29:59.630310Z",
     "iopub.status.busy": "2024-06-04T12:29:59.629902Z",
     "iopub.status.idle": "2024-06-04T12:29:59.674410Z",
     "shell.execute_reply": "2024-06-04T12:29:59.672384Z"
    },
    "papermill": {
     "duration": 0.067054,
     "end_time": "2024-06-04T12:29:59.677024",
     "exception": false,
     "start_time": "2024-06-04T12:29:59.609970",
     "status": "completed"
    },
    "tags": []
   },
   "outputs": [
    {
     "name": "stdout",
     "output_type": "stream",
     "text": [
      "<class 'pandas.core.frame.DataFrame'>\n",
      "RangeIndex: 284807 entries, 0 to 284806\n",
      "Data columns (total 31 columns):\n",
      " #   Column  Non-Null Count   Dtype  \n",
      "---  ------  --------------   -----  \n",
      " 0   Time    284807 non-null  float64\n",
      " 1   V1      284807 non-null  float64\n",
      " 2   V2      284807 non-null  float64\n",
      " 3   V3      284807 non-null  float64\n",
      " 4   V4      284807 non-null  float64\n",
      " 5   V5      284807 non-null  float64\n",
      " 6   V6      284807 non-null  float64\n",
      " 7   V7      284807 non-null  float64\n",
      " 8   V8      284807 non-null  float64\n",
      " 9   V9      284807 non-null  float64\n",
      " 10  V10     284807 non-null  float64\n",
      " 11  V11     284807 non-null  float64\n",
      " 12  V12     284807 non-null  float64\n",
      " 13  V13     284807 non-null  float64\n",
      " 14  V14     284807 non-null  float64\n",
      " 15  V15     284807 non-null  float64\n",
      " 16  V16     284807 non-null  float64\n",
      " 17  V17     284807 non-null  float64\n",
      " 18  V18     284807 non-null  float64\n",
      " 19  V19     284807 non-null  float64\n",
      " 20  V20     284807 non-null  float64\n",
      " 21  V21     284807 non-null  float64\n",
      " 22  V22     284807 non-null  float64\n",
      " 23  V23     284807 non-null  float64\n",
      " 24  V24     284807 non-null  float64\n",
      " 25  V25     284807 non-null  float64\n",
      " 26  V26     284807 non-null  float64\n",
      " 27  V27     284807 non-null  float64\n",
      " 28  V28     284807 non-null  float64\n",
      " 29  Amount  284807 non-null  float64\n",
      " 30  Class   284807 non-null  int64  \n",
      "dtypes: float64(30), int64(1)\n",
      "memory usage: 67.4 MB\n"
     ]
    }
   ],
   "source": [
    "# check the data type \n",
    "df.info()"
   ]
  },
  {
   "cell_type": "code",
   "execution_count": 4,
   "id": "ebe8c4c5",
   "metadata": {
    "execution": {
     "iopub.execute_input": "2024-06-04T12:29:59.717419Z",
     "iopub.status.busy": "2024-06-04T12:29:59.716760Z",
     "iopub.status.idle": "2024-06-04T12:29:59.738579Z",
     "shell.execute_reply": "2024-06-04T12:29:59.737489Z"
    },
    "papermill": {
     "duration": 0.044875,
     "end_time": "2024-06-04T12:29:59.741332",
     "exception": false,
     "start_time": "2024-06-04T12:29:59.696457",
     "status": "completed"
    },
    "tags": []
   },
   "outputs": [
    {
     "data": {
      "text/plain": [
       "Time      0\n",
       "V1        0\n",
       "V2        0\n",
       "V3        0\n",
       "V4        0\n",
       "V5        0\n",
       "V6        0\n",
       "V7        0\n",
       "V8        0\n",
       "V9        0\n",
       "V10       0\n",
       "V11       0\n",
       "V12       0\n",
       "V13       0\n",
       "V14       0\n",
       "V15       0\n",
       "V16       0\n",
       "V17       0\n",
       "V18       0\n",
       "V19       0\n",
       "V20       0\n",
       "V21       0\n",
       "V22       0\n",
       "V23       0\n",
       "V24       0\n",
       "V25       0\n",
       "V26       0\n",
       "V27       0\n",
       "V28       0\n",
       "Amount    0\n",
       "Class     0\n",
       "dtype: int64"
      ]
     },
     "execution_count": 4,
     "metadata": {},
     "output_type": "execute_result"
    }
   ],
   "source": [
    "# check the missing value - Null \n",
    "df.isna().sum()"
   ]
  },
  {
   "cell_type": "markdown",
   "id": "d858f258",
   "metadata": {
    "papermill": {
     "duration": 0.018772,
     "end_time": "2024-06-04T12:29:59.779536",
     "exception": false,
     "start_time": "2024-06-04T12:29:59.760764",
     "status": "completed"
    },
    "tags": []
   },
   "source": [
    "- - 📄 No any missing data / missing value "
   ]
  },
  {
   "cell_type": "code",
   "execution_count": 5,
   "id": "722f3855",
   "metadata": {
    "execution": {
     "iopub.execute_input": "2024-06-04T12:29:59.819743Z",
     "iopub.status.busy": "2024-06-04T12:29:59.819373Z",
     "iopub.status.idle": "2024-06-04T12:30:00.288881Z",
     "shell.execute_reply": "2024-06-04T12:30:00.287864Z"
    },
    "papermill": {
     "duration": 0.492902,
     "end_time": "2024-06-04T12:30:00.291495",
     "exception": false,
     "start_time": "2024-06-04T12:29:59.798593",
     "status": "completed"
    },
    "tags": []
   },
   "outputs": [
    {
     "data": {
      "text/html": [
       "<div>\n",
       "<style scoped>\n",
       "    .dataframe tbody tr th:only-of-type {\n",
       "        vertical-align: middle;\n",
       "    }\n",
       "\n",
       "    .dataframe tbody tr th {\n",
       "        vertical-align: top;\n",
       "    }\n",
       "\n",
       "    .dataframe thead th {\n",
       "        text-align: right;\n",
       "    }\n",
       "</style>\n",
       "<table border=\"1\" class=\"dataframe\">\n",
       "  <thead>\n",
       "    <tr style=\"text-align: right;\">\n",
       "      <th></th>\n",
       "      <th>Time</th>\n",
       "      <th>V1</th>\n",
       "      <th>V2</th>\n",
       "      <th>V3</th>\n",
       "      <th>V4</th>\n",
       "      <th>V5</th>\n",
       "      <th>V6</th>\n",
       "      <th>V7</th>\n",
       "      <th>V8</th>\n",
       "      <th>V9</th>\n",
       "      <th>...</th>\n",
       "      <th>V21</th>\n",
       "      <th>V22</th>\n",
       "      <th>V23</th>\n",
       "      <th>V24</th>\n",
       "      <th>V25</th>\n",
       "      <th>V26</th>\n",
       "      <th>V27</th>\n",
       "      <th>V28</th>\n",
       "      <th>Amount</th>\n",
       "      <th>Class</th>\n",
       "    </tr>\n",
       "  </thead>\n",
       "  <tbody>\n",
       "    <tr>\n",
       "      <th>count</th>\n",
       "      <td>284807.00</td>\n",
       "      <td>284807.00</td>\n",
       "      <td>284807.00</td>\n",
       "      <td>284807.00</td>\n",
       "      <td>284807.00</td>\n",
       "      <td>284807.00</td>\n",
       "      <td>284807.00</td>\n",
       "      <td>284807.00</td>\n",
       "      <td>284807.00</td>\n",
       "      <td>284807.00</td>\n",
       "      <td>...</td>\n",
       "      <td>284807.00</td>\n",
       "      <td>284807.00</td>\n",
       "      <td>284807.00</td>\n",
       "      <td>284807.00</td>\n",
       "      <td>284807.00</td>\n",
       "      <td>284807.00</td>\n",
       "      <td>284807.00</td>\n",
       "      <td>284807.00</td>\n",
       "      <td>284807.00</td>\n",
       "      <td>284807.00</td>\n",
       "    </tr>\n",
       "    <tr>\n",
       "      <th>mean</th>\n",
       "      <td>94813.86</td>\n",
       "      <td>0.00</td>\n",
       "      <td>0.00</td>\n",
       "      <td>-0.00</td>\n",
       "      <td>0.00</td>\n",
       "      <td>0.00</td>\n",
       "      <td>0.00</td>\n",
       "      <td>-0.00</td>\n",
       "      <td>0.00</td>\n",
       "      <td>-0.00</td>\n",
       "      <td>...</td>\n",
       "      <td>0.00</td>\n",
       "      <td>-0.00</td>\n",
       "      <td>0.00</td>\n",
       "      <td>0.00</td>\n",
       "      <td>0.00</td>\n",
       "      <td>0.00</td>\n",
       "      <td>-0.00</td>\n",
       "      <td>-0.00</td>\n",
       "      <td>88.35</td>\n",
       "      <td>0.00</td>\n",
       "    </tr>\n",
       "    <tr>\n",
       "      <th>std</th>\n",
       "      <td>47488.15</td>\n",
       "      <td>1.96</td>\n",
       "      <td>1.65</td>\n",
       "      <td>1.52</td>\n",
       "      <td>1.42</td>\n",
       "      <td>1.38</td>\n",
       "      <td>1.33</td>\n",
       "      <td>1.24</td>\n",
       "      <td>1.19</td>\n",
       "      <td>1.10</td>\n",
       "      <td>...</td>\n",
       "      <td>0.73</td>\n",
       "      <td>0.73</td>\n",
       "      <td>0.62</td>\n",
       "      <td>0.61</td>\n",
       "      <td>0.52</td>\n",
       "      <td>0.48</td>\n",
       "      <td>0.40</td>\n",
       "      <td>0.33</td>\n",
       "      <td>250.12</td>\n",
       "      <td>0.04</td>\n",
       "    </tr>\n",
       "    <tr>\n",
       "      <th>min</th>\n",
       "      <td>0.00</td>\n",
       "      <td>-56.41</td>\n",
       "      <td>-72.72</td>\n",
       "      <td>-48.33</td>\n",
       "      <td>-5.68</td>\n",
       "      <td>-113.74</td>\n",
       "      <td>-26.16</td>\n",
       "      <td>-43.56</td>\n",
       "      <td>-73.22</td>\n",
       "      <td>-13.43</td>\n",
       "      <td>...</td>\n",
       "      <td>-34.83</td>\n",
       "      <td>-10.93</td>\n",
       "      <td>-44.81</td>\n",
       "      <td>-2.84</td>\n",
       "      <td>-10.30</td>\n",
       "      <td>-2.60</td>\n",
       "      <td>-22.57</td>\n",
       "      <td>-15.43</td>\n",
       "      <td>0.00</td>\n",
       "      <td>0.00</td>\n",
       "    </tr>\n",
       "    <tr>\n",
       "      <th>25%</th>\n",
       "      <td>54201.50</td>\n",
       "      <td>-0.92</td>\n",
       "      <td>-0.60</td>\n",
       "      <td>-0.89</td>\n",
       "      <td>-0.85</td>\n",
       "      <td>-0.69</td>\n",
       "      <td>-0.77</td>\n",
       "      <td>-0.55</td>\n",
       "      <td>-0.21</td>\n",
       "      <td>-0.64</td>\n",
       "      <td>...</td>\n",
       "      <td>-0.23</td>\n",
       "      <td>-0.54</td>\n",
       "      <td>-0.16</td>\n",
       "      <td>-0.35</td>\n",
       "      <td>-0.32</td>\n",
       "      <td>-0.33</td>\n",
       "      <td>-0.07</td>\n",
       "      <td>-0.05</td>\n",
       "      <td>5.60</td>\n",
       "      <td>0.00</td>\n",
       "    </tr>\n",
       "    <tr>\n",
       "      <th>50%</th>\n",
       "      <td>84692.00</td>\n",
       "      <td>0.02</td>\n",
       "      <td>0.07</td>\n",
       "      <td>0.18</td>\n",
       "      <td>-0.02</td>\n",
       "      <td>-0.05</td>\n",
       "      <td>-0.27</td>\n",
       "      <td>0.04</td>\n",
       "      <td>0.02</td>\n",
       "      <td>-0.05</td>\n",
       "      <td>...</td>\n",
       "      <td>-0.03</td>\n",
       "      <td>0.01</td>\n",
       "      <td>-0.01</td>\n",
       "      <td>0.04</td>\n",
       "      <td>0.02</td>\n",
       "      <td>-0.05</td>\n",
       "      <td>0.00</td>\n",
       "      <td>0.01</td>\n",
       "      <td>22.00</td>\n",
       "      <td>0.00</td>\n",
       "    </tr>\n",
       "    <tr>\n",
       "      <th>75%</th>\n",
       "      <td>139320.50</td>\n",
       "      <td>1.32</td>\n",
       "      <td>0.80</td>\n",
       "      <td>1.03</td>\n",
       "      <td>0.74</td>\n",
       "      <td>0.61</td>\n",
       "      <td>0.40</td>\n",
       "      <td>0.57</td>\n",
       "      <td>0.33</td>\n",
       "      <td>0.60</td>\n",
       "      <td>...</td>\n",
       "      <td>0.19</td>\n",
       "      <td>0.53</td>\n",
       "      <td>0.15</td>\n",
       "      <td>0.44</td>\n",
       "      <td>0.35</td>\n",
       "      <td>0.24</td>\n",
       "      <td>0.09</td>\n",
       "      <td>0.08</td>\n",
       "      <td>77.16</td>\n",
       "      <td>0.00</td>\n",
       "    </tr>\n",
       "    <tr>\n",
       "      <th>max</th>\n",
       "      <td>172792.00</td>\n",
       "      <td>2.45</td>\n",
       "      <td>22.06</td>\n",
       "      <td>9.38</td>\n",
       "      <td>16.88</td>\n",
       "      <td>34.80</td>\n",
       "      <td>73.30</td>\n",
       "      <td>120.59</td>\n",
       "      <td>20.01</td>\n",
       "      <td>15.59</td>\n",
       "      <td>...</td>\n",
       "      <td>27.20</td>\n",
       "      <td>10.50</td>\n",
       "      <td>22.53</td>\n",
       "      <td>4.58</td>\n",
       "      <td>7.52</td>\n",
       "      <td>3.52</td>\n",
       "      <td>31.61</td>\n",
       "      <td>33.85</td>\n",
       "      <td>25691.16</td>\n",
       "      <td>1.00</td>\n",
       "    </tr>\n",
       "  </tbody>\n",
       "</table>\n",
       "<p>8 rows × 31 columns</p>\n",
       "</div>"
      ],
      "text/plain": [
       "            Time         V1         V2         V3         V4         V5  \\\n",
       "count  284807.00  284807.00  284807.00  284807.00  284807.00  284807.00   \n",
       "mean    94813.86       0.00       0.00      -0.00       0.00       0.00   \n",
       "std     47488.15       1.96       1.65       1.52       1.42       1.38   \n",
       "min         0.00     -56.41     -72.72     -48.33      -5.68    -113.74   \n",
       "25%     54201.50      -0.92      -0.60      -0.89      -0.85      -0.69   \n",
       "50%     84692.00       0.02       0.07       0.18      -0.02      -0.05   \n",
       "75%    139320.50       1.32       0.80       1.03       0.74       0.61   \n",
       "max    172792.00       2.45      22.06       9.38      16.88      34.80   \n",
       "\n",
       "              V6         V7         V8         V9  ...        V21        V22  \\\n",
       "count  284807.00  284807.00  284807.00  284807.00  ...  284807.00  284807.00   \n",
       "mean        0.00      -0.00       0.00      -0.00  ...       0.00      -0.00   \n",
       "std         1.33       1.24       1.19       1.10  ...       0.73       0.73   \n",
       "min       -26.16     -43.56     -73.22     -13.43  ...     -34.83     -10.93   \n",
       "25%        -0.77      -0.55      -0.21      -0.64  ...      -0.23      -0.54   \n",
       "50%        -0.27       0.04       0.02      -0.05  ...      -0.03       0.01   \n",
       "75%         0.40       0.57       0.33       0.60  ...       0.19       0.53   \n",
       "max        73.30     120.59      20.01      15.59  ...      27.20      10.50   \n",
       "\n",
       "             V23        V24        V25        V26        V27        V28  \\\n",
       "count  284807.00  284807.00  284807.00  284807.00  284807.00  284807.00   \n",
       "mean        0.00       0.00       0.00       0.00      -0.00      -0.00   \n",
       "std         0.62       0.61       0.52       0.48       0.40       0.33   \n",
       "min       -44.81      -2.84     -10.30      -2.60     -22.57     -15.43   \n",
       "25%        -0.16      -0.35      -0.32      -0.33      -0.07      -0.05   \n",
       "50%        -0.01       0.04       0.02      -0.05       0.00       0.01   \n",
       "75%         0.15       0.44       0.35       0.24       0.09       0.08   \n",
       "max        22.53       4.58       7.52       3.52      31.61      33.85   \n",
       "\n",
       "          Amount      Class  \n",
       "count  284807.00  284807.00  \n",
       "mean       88.35       0.00  \n",
       "std       250.12       0.04  \n",
       "min         0.00       0.00  \n",
       "25%         5.60       0.00  \n",
       "50%        22.00       0.00  \n",
       "75%        77.16       0.00  \n",
       "max     25691.16       1.00  \n",
       "\n",
       "[8 rows x 31 columns]"
      ]
     },
     "execution_count": 5,
     "metadata": {},
     "output_type": "execute_result"
    }
   ],
   "source": [
    "# let show the describe the numeric feature \n",
    "df.describe().round(2)"
   ]
  },
  {
   "cell_type": "code",
   "execution_count": 6,
   "id": "9fbff60d",
   "metadata": {
    "execution": {
     "iopub.execute_input": "2024-06-04T12:30:00.333287Z",
     "iopub.status.busy": "2024-06-04T12:30:00.332883Z",
     "iopub.status.idle": "2024-06-04T12:30:01.221331Z",
     "shell.execute_reply": "2024-06-04T12:30:01.220221Z"
    },
    "papermill": {
     "duration": 0.912981,
     "end_time": "2024-06-04T12:30:01.223865",
     "exception": false,
     "start_time": "2024-06-04T12:30:00.310884",
     "status": "completed"
    },
    "tags": []
   },
   "outputs": [
    {
     "data": {
      "text/plain": [
       "1081"
      ]
     },
     "execution_count": 6,
     "metadata": {},
     "output_type": "execute_result"
    }
   ],
   "source": [
    "#check if there any duplication \n",
    "df.duplicated().sum()"
   ]
  },
  {
   "cell_type": "markdown",
   "id": "ada35da5",
   "metadata": {
    "papermill": {
     "duration": 0.019764,
     "end_time": "2024-06-04T12:30:01.263601",
     "exception": false,
     "start_time": "2024-06-04T12:30:01.243837",
     "status": "completed"
    },
    "tags": []
   },
   "source": [
    "- 📄 We have Duplicated values/ we need delete this values "
   ]
  },
  {
   "cell_type": "code",
   "execution_count": 7,
   "id": "989d1bdc",
   "metadata": {
    "execution": {
     "iopub.execute_input": "2024-06-04T12:30:01.306530Z",
     "iopub.status.busy": "2024-06-04T12:30:01.306136Z",
     "iopub.status.idle": "2024-06-04T12:30:02.148382Z",
     "shell.execute_reply": "2024-06-04T12:30:02.147103Z"
    },
    "papermill": {
     "duration": 0.866853,
     "end_time": "2024-06-04T12:30:02.151197",
     "exception": false,
     "start_time": "2024-06-04T12:30:01.284344",
     "status": "completed"
    },
    "tags": []
   },
   "outputs": [],
   "source": [
    "# drop duplication\n",
    "\n",
    "df.drop_duplicates(df,inplace=True)"
   ]
  },
  {
   "cell_type": "code",
   "execution_count": 8,
   "id": "e4af8a82",
   "metadata": {
    "execution": {
     "iopub.execute_input": "2024-06-04T12:30:02.194871Z",
     "iopub.status.busy": "2024-06-04T12:30:02.194440Z",
     "iopub.status.idle": "2024-06-04T12:30:02.199818Z",
     "shell.execute_reply": "2024-06-04T12:30:02.198749Z"
    },
    "papermill": {
     "duration": 0.031879,
     "end_time": "2024-06-04T12:30:02.203352",
     "exception": false,
     "start_time": "2024-06-04T12:30:02.171473",
     "status": "completed"
    },
    "tags": []
   },
   "outputs": [
    {
     "name": "stdout",
     "output_type": "stream",
     "text": [
      "We have 283726 Rows and 31 columns\n"
     ]
    }
   ],
   "source": [
    "# the shape \n",
    "print (f\"We have {df.shape[0]} Rows and {df.shape[1]} columns\")"
   ]
  },
  {
   "cell_type": "markdown",
   "id": "159b75c9",
   "metadata": {
    "papermill": {
     "duration": 0.019671,
     "end_time": "2024-06-04T12:30:02.243479",
     "exception": false,
     "start_time": "2024-06-04T12:30:02.223808",
     "status": "completed"
    },
    "tags": []
   },
   "source": [
    "<a id=\"2\"></a>\n",
    "# <p style=\"padding:10px;background-color:#ff96ff;margin:0;color:#666600;font-family:newtimeroman;font-size:100%;text-align:center;border-radius: 15px 50px;overflow:hidden;font-weight:500\"> Explore Data using some Visuals </p>"
   ]
  },
  {
   "cell_type": "code",
   "execution_count": 9,
   "id": "33cc2674",
   "metadata": {
    "execution": {
     "iopub.execute_input": "2024-06-04T12:30:02.285544Z",
     "iopub.status.busy": "2024-06-04T12:30:02.285118Z",
     "iopub.status.idle": "2024-06-04T12:30:02.562978Z",
     "shell.execute_reply": "2024-06-04T12:30:02.561878Z"
    },
    "papermill": {
     "duration": 0.302045,
     "end_time": "2024-06-04T12:30:02.565443",
     "exception": false,
     "start_time": "2024-06-04T12:30:02.263398",
     "status": "completed"
    },
    "tags": []
   },
   "outputs": [
    {
     "data": {
      "image/png": "[encoded data removed]",
      "text/plain": [
       "<Figure size 640x480 with 1 Axes>"
      ]
     },
     "metadata": {},
     "output_type": "display_data"
    }
   ],
   "source": [
    "# how many cases fraud in the dataset\n",
    "\n",
    "df[\"Class\"].value_counts().plot(kind= \"pie\",autopct='%1.2f%%', shadow = True)\n",
    "plt.show()"
   ]
  },
  {
   "cell_type": "markdown",
   "id": "5264644d",
   "metadata": {
    "papermill": {
     "duration": 0.02015,
     "end_time": "2024-06-04T12:30:02.606130",
     "exception": false,
     "start_time": "2024-06-04T12:30:02.585980",
     "status": "completed"
    },
    "tags": []
   },
   "source": [
    "- 0 = Not Fraud 99.8%\n",
    "- 1 = Fraud  0.17%"
   ]
  },
  {
   "cell_type": "code",
   "execution_count": 10,
   "id": "d305c326",
   "metadata": {
    "execution": {
     "iopub.execute_input": "2024-06-04T12:30:02.648950Z",
     "iopub.status.busy": "2024-06-04T12:30:02.648527Z",
     "iopub.status.idle": "2024-06-04T12:30:02.878436Z",
     "shell.execute_reply": "2024-06-04T12:30:02.877201Z"
    },
    "papermill": {
     "duration": 0.254631,
     "end_time": "2024-06-04T12:30:02.881044",
     "exception": false,
     "start_time": "2024-06-04T12:30:02.626413",
     "status": "completed"
    },
    "tags": []
   },
   "outputs": [
    {
     "data": {
      "image/png": "[encoded data removed]",
      "text/plain": [
       "<Figure size 640x480 with 1 Axes>"
      ]
     },
     "metadata": {},
     "output_type": "display_data"
    }
   ],
   "source": [
    "# using histogram, to show the Amount columns where is the distributing\n",
    "\n",
    "plt.hist (data= df, x=\"Amount\")\n",
    "plt.title(\"where is the distributing in Amount column\")\n",
    "plt.show()"
   ]
  },
  {
   "cell_type": "code",
   "execution_count": 11,
   "id": "29611c05",
   "metadata": {
    "execution": {
     "iopub.execute_input": "2024-06-04T12:30:02.925132Z",
     "iopub.status.busy": "2024-06-04T12:30:02.924281Z",
     "iopub.status.idle": "2024-06-04T12:30:02.967805Z",
     "shell.execute_reply": "2024-06-04T12:30:02.966686Z"
    },
    "papermill": {
     "duration": 0.068274,
     "end_time": "2024-06-04T12:30:02.970233",
     "exception": false,
     "start_time": "2024-06-04T12:30:02.901959",
     "status": "completed"
    },
    "tags": []
   },
   "outputs": [
    {
     "data": {
      "text/plain": [
       "274771    25691.16\n",
       "58465     19656.53\n",
       "151296    18910.00\n",
       "46841     12910.93\n",
       "54018     11898.09\n",
       "169457    11789.84\n",
       "284249    10199.44\n",
       "227921    10000.00\n",
       "74699      8790.26\n",
       "245474     8787.00\n",
       "Name: Amount, dtype: float64"
      ]
     },
     "execution_count": 11,
     "metadata": {},
     "output_type": "execute_result"
    }
   ],
   "source": [
    "#show the first 10 values / amount the highest \n",
    "df[\"Amount\"].sort_values(ascending=False).head(10)"
   ]
  },
  {
   "cell_type": "markdown",
   "id": "2394cae5",
   "metadata": {
    "papermill": {
     "duration": 0.079189,
     "end_time": "2024-06-04T12:30:03.070426",
     "exception": false,
     "start_time": "2024-06-04T12:30:02.991237",
     "status": "completed"
    },
    "tags": []
   },
   "source": [
    "<a id=\"3\"></a>\n",
    "# <p style=\"padding:10px;background-color:#d896ff;margin:0;color:#660066;font-family:newtimeroman;font-size:100%;text-align:center;border-radius: 15px 50px;overflow:hidden;font-weight:500\">2️⃣ Building a Machine Learning Model || Classification - Before Feature Selection</p>"
   ]
  },
  {
   "cell_type": "code",
   "execution_count": 12,
   "id": "e82b29eb",
   "metadata": {
    "execution": {
     "iopub.execute_input": "2024-06-04T12:30:03.114300Z",
     "iopub.status.busy": "2024-06-04T12:30:03.113836Z",
     "iopub.status.idle": "2024-06-04T12:30:03.620867Z",
     "shell.execute_reply": "2024-06-04T12:30:03.619621Z"
    },
    "papermill": {
     "duration": 0.532069,
     "end_time": "2024-06-04T12:30:03.623648",
     "exception": false,
     "start_time": "2024-06-04T12:30:03.091579",
     "status": "completed"
    },
    "tags": []
   },
   "outputs": [],
   "source": [
    "#Importing the basic librarires for building model  / Classification \n",
    "from sklearn.model_selection import train_test_split\n",
    "\n",
    "from sklearn.metrics import  classification_report ,confusion_matrix\n",
    "\n",
    "\n",
    "from sklearn.linear_model import LogisticRegression\n",
    "from sklearn.tree import DecisionTreeClassifier\n",
    "from sklearn.neighbors import  KNeighborsClassifier\n",
    "from sklearn.ensemble import RandomForestClassifier\n",
    "from sklearn.neural_network import  MLPClassifier\n",
    "from sklearn.svm import SVC"
   ]
  },
  {
   "cell_type": "code",
   "execution_count": 13,
   "id": "d2bd6321",
   "metadata": {
    "execution": {
     "iopub.execute_input": "2024-06-04T12:30:03.668887Z",
     "iopub.status.busy": "2024-06-04T12:30:03.668403Z",
     "iopub.status.idle": "2024-06-04T12:30:03.804618Z",
     "shell.execute_reply": "2024-06-04T12:30:03.803239Z"
    },
    "papermill": {
     "duration": 0.161858,
     "end_time": "2024-06-04T12:30:03.807095",
     "exception": false,
     "start_time": "2024-06-04T12:30:03.645237",
     "status": "completed"
    },
    "tags": []
   },
   "outputs": [
    {
     "name": "stdout",
     "output_type": "stream",
     "text": [
      "X Train :  (212794, 30)\n",
      "X Test  :  (70932, 30)\n",
      "Y Train :  (212794,)\n",
      "Y Test  :  (70932,)\n"
     ]
    }
   ],
   "source": [
    "#Defined X value and y value , and split the data train\n",
    "\n",
    "X = df.drop(columns=\"Class\")           \n",
    "y = df[\"Class\"]    # y = class\n",
    "\n",
    "# split the data train and test\n",
    "X_train, X_test, y_train, y_test = train_test_split(X, y, test_size=0.25, random_state=42)\n",
    "\n",
    "print(\"X Train : \", X_train.shape)\n",
    "print(\"X Test  : \", X_test.shape)\n",
    "print(\"Y Train : \", y_train.shape)\n",
    "print(\"Y Test  : \", y_test.shape)"
   ]
  },
  {
   "cell_type": "code",
   "execution_count": 14,
   "id": "90aad257",
   "metadata": {
    "execution": {
     "iopub.execute_input": "2024-06-04T12:30:03.851081Z",
     "iopub.status.busy": "2024-06-04T12:30:03.850679Z",
     "iopub.status.idle": "2024-06-04T12:30:03.856444Z",
     "shell.execute_reply": "2024-06-04T12:30:03.855457Z"
    },
    "papermill": {
     "duration": 0.030323,
     "end_time": "2024-06-04T12:30:03.858629",
     "exception": false,
     "start_time": "2024-06-04T12:30:03.828306",
     "status": "completed"
    },
    "tags": []
   },
   "outputs": [],
   "source": [
    "#Defined object from library Classification  / from the libraries import before / 6 model\n",
    "\n",
    "LR = LogisticRegression()\n",
    "DTR = DecisionTreeClassifier()\n",
    "RFR = RandomForestClassifier()\n",
    "KNR = KNeighborsClassifier()\n",
    "MLP = MLPClassifier()\n",
    "SVC=SVC()"
   ]
  },
  {
   "cell_type": "code",
   "execution_count": 15,
   "id": "c8abe730",
   "metadata": {
    "execution": {
     "iopub.execute_input": "2024-06-04T12:30:03.903056Z",
     "iopub.status.busy": "2024-06-04T12:30:03.901984Z",
     "iopub.status.idle": "2024-06-04T12:38:15.939619Z",
     "shell.execute_reply": "2024-06-04T12:38:15.938539Z"
    },
    "papermill": {
     "duration": 492.084406,
     "end_time": "2024-06-04T12:38:15.964114",
     "exception": false,
     "start_time": "2024-06-04T12:30:03.879708",
     "status": "completed"
    },
    "tags": []
   },
   "outputs": [
    {
     "name": "stderr",
     "output_type": "stream",
     "text": [
      "/opt/conda/lib/python3.10/site-packages/sklearn/linear_model/_logistic.py:458: ConvergenceWarning: lbfgs failed to converge (status=1):\n",
      "STOP: TOTAL NO. of ITERATIONS REACHED LIMIT.\n",
      "\n",
      "Increase the number of iterations (max_iter) or scale the data as shown in:\n",
      "    https://scikit-learn.org/stable/modules/preprocessing.html\n",
      "Please also refer to the documentation for alternative solver options:\n",
      "    https://scikit-learn.org/stable/modules/linear_model.html#logistic-regression\n",
      "  n_iter_i = _check_optimize_result(\n"
     ]
    },
    {
     "name": "stdout",
     "output_type": "stream",
     "text": [
      "LogisticRegression() :               precision    recall  f1-score   support\n",
      "\n",
      "           0       1.00      1.00      1.00     70820\n",
      "           1       0.77      0.64      0.70       112\n",
      "\n",
      "    accuracy                           1.00     70932\n",
      "   macro avg       0.89      0.82      0.85     70932\n",
      "weighted avg       1.00      1.00      1.00     70932\n",
      "\n",
      "********************************************\n",
      "DecisionTreeClassifier() :               precision    recall  f1-score   support\n",
      "\n",
      "           0       1.00      1.00      1.00     70820\n",
      "           1       0.70      0.78      0.74       112\n",
      "\n",
      "    accuracy                           1.00     70932\n",
      "   macro avg       0.85      0.89      0.87     70932\n",
      "weighted avg       1.00      1.00      1.00     70932\n",
      "\n",
      "********************************************\n",
      "RandomForestClassifier() :               precision    recall  f1-score   support\n",
      "\n",
      "           0       1.00      1.00      1.00     70820\n",
      "           1       0.95      0.75      0.84       112\n",
      "\n",
      "    accuracy                           1.00     70932\n",
      "   macro avg       0.98      0.87      0.92     70932\n",
      "weighted avg       1.00      1.00      1.00     70932\n",
      "\n",
      "********************************************\n",
      "KNeighborsClassifier() :               precision    recall  f1-score   support\n",
      "\n",
      "           0       1.00      1.00      1.00     70820\n",
      "           1       0.80      0.04      0.07       112\n",
      "\n",
      "    accuracy                           1.00     70932\n",
      "   macro avg       0.90      0.52      0.53     70932\n",
      "weighted avg       1.00      1.00      1.00     70932\n",
      "\n",
      "********************************************\n"
     ]
    },
    {
     "name": "stderr",
     "output_type": "stream",
     "text": [
      "/opt/conda/lib/python3.10/site-packages/sklearn/metrics/_classification.py:1344: UndefinedMetricWarning: Precision and F-score are ill-defined and being set to 0.0 in labels with no predicted samples. Use `zero_division` parameter to control this behavior.\n",
      "  _warn_prf(average, modifier, msg_start, len(result))\n",
      "/opt/conda/lib/python3.10/site-packages/sklearn/metrics/_classification.py:1344: UndefinedMetricWarning: Precision and F-score are ill-defined and being set to 0.0 in labels with no predicted samples. Use `zero_division` parameter to control this behavior.\n",
      "  _warn_prf(average, modifier, msg_start, len(result))\n",
      "/opt/conda/lib/python3.10/site-packages/sklearn/metrics/_classification.py:1344: UndefinedMetricWarning: Precision and F-score are ill-defined and being set to 0.0 in labels with no predicted samples. Use `zero_division` parameter to control this behavior.\n",
      "  _warn_prf(average, modifier, msg_start, len(result))\n"
     ]
    },
    {
     "name": "stdout",
     "output_type": "stream",
     "text": [
      "SVC() :               precision    recall  f1-score   support\n",
      "\n",
      "           0       1.00      1.00      1.00     70820\n",
      "           1       0.00      0.00      0.00       112\n",
      "\n",
      "    accuracy                           1.00     70932\n",
      "   macro avg       0.50      0.50      0.50     70932\n",
      "weighted avg       1.00      1.00      1.00     70932\n",
      "\n",
      "********************************************\n",
      "MLPClassifier() :               precision    recall  f1-score   support\n",
      "\n",
      "           0       1.00      1.00      1.00     70820\n",
      "           1       0.50      0.02      0.03       112\n",
      "\n",
      "    accuracy                           1.00     70932\n",
      "   macro avg       0.75      0.51      0.52     70932\n",
      "weighted avg       1.00      1.00      1.00     70932\n",
      "\n",
      "********************************************\n"
     ]
    }
   ],
   "source": [
    "# make for loop for classification \n",
    "\n",
    "li = [LR,DTR,RFR,KNR,SVC,MLP]\n",
    "\n",
    "for i in li:\n",
    "    i.fit(X_train,y_train)\n",
    "    ypred = i.predict(X_test)\n",
    "    print(i,\":\",classification_report(y_test,ypred))\n",
    "    print(\"********************************************\")"
   ]
  },
  {
   "cell_type": "markdown",
   "id": "b540c05a",
   "metadata": {
    "papermill": {
     "duration": 0.021615,
     "end_time": "2024-06-04T12:38:16.007571",
     "exception": false,
     "start_time": "2024-06-04T12:38:15.985956",
     "status": "completed"
    },
    "tags": []
   },
   "source": []
  },
  {
   "cell_type": "markdown",
   "id": "7c71da91",
   "metadata": {
    "papermill": {
     "duration": 0.021488,
     "end_time": "2024-06-04T12:38:16.050917",
     "exception": false,
     "start_time": "2024-06-04T12:38:16.029429",
     "status": "completed"
    },
    "tags": []
   },
   "source": [
    "<a id=\"3\"></a>\n",
    "# <p style=\"padding:10px;background-color:#ff96ff;margin:0;color:#660066;font-family:newtimeroman;font-size:100%;text-align:center;border-radius: 15px 50px;overflow:hidden;font-weight:500\"> 3️⃣ Make Deep learning - Model - Classification - Before Feature Selection || using TensorFlow</p>"
   ]
  },
  {
   "cell_type": "code",
   "execution_count": 16,
   "id": "e5ca0b9b",
   "metadata": {
    "execution": {
     "iopub.execute_input": "2024-06-04T12:38:16.096754Z",
     "iopub.status.busy": "2024-06-04T12:38:16.095941Z",
     "iopub.status.idle": "2024-06-04T12:38:29.693544Z",
     "shell.execute_reply": "2024-06-04T12:38:29.692492Z"
    },
    "papermill": {
     "duration": 13.623587,
     "end_time": "2024-06-04T12:38:29.696357",
     "exception": false,
     "start_time": "2024-06-04T12:38:16.072770",
     "status": "completed"
    },
    "tags": []
   },
   "outputs": [
    {
     "name": "stderr",
     "output_type": "stream",
     "text": [
      "2024-06-04 12:38:18.034040: E external/local_xla/xla/stream_executor/cuda/cuda_dnn.cc:9261] Unable to register cuDNN factory: Attempting to register factory for plugin cuDNN when one has already been registered\n",
      "2024-06-04 12:38:18.034167: E external/local_xla/xla/stream_executor/cuda/cuda_fft.cc:607] Unable to register cuFFT factory: Attempting to register factory for plugin cuFFT when one has already been registered\n",
      "2024-06-04 12:38:18.176652: E external/local_xla/xla/stream_executor/cuda/cuda_blas.cc:1515] Unable to register cuBLAS factory: Attempting to register factory for plugin cuBLAS when one has already been registered\n"
     ]
    }
   ],
   "source": [
    "#Importing the basic librarires for deep learning\n",
    "\n",
    "import tensorflow as tf\n",
    "import keras\n"
   ]
  },
  {
   "cell_type": "code",
   "execution_count": 17,
   "id": "05bcccd3",
   "metadata": {
    "execution": {
     "iopub.execute_input": "2024-06-04T12:38:29.743828Z",
     "iopub.status.busy": "2024-06-04T12:38:29.743103Z",
     "iopub.status.idle": "2024-06-04T12:38:29.887469Z",
     "shell.execute_reply": "2024-06-04T12:38:29.886534Z"
    },
    "papermill": {
     "duration": 0.171097,
     "end_time": "2024-06-04T12:38:29.890198",
     "exception": false,
     "start_time": "2024-06-04T12:38:29.719101",
     "status": "completed"
    },
    "tags": []
   },
   "outputs": [],
   "source": [
    "# Model Definition \n",
    "\n",
    "Cla_M = keras.models.Sequential([\n",
    "    keras.layers.Input(shape=30),\n",
    "    keras.layers.Dense(8,activation='tanh'),\n",
    "    keras.layers.Dense(128,activation=\"sigmoid\"),\n",
    "    keras.layers.Dense(64,activation=\"tanh\"),\n",
    "    keras.layers.Dropout(0,2),\n",
    "    keras.layers.Dense(1,activation='sigmoid') # we have one class 0 or 1\n",
    "    \n",
    "])"
   ]
  },
  {
   "cell_type": "code",
   "execution_count": 18,
   "id": "3fa49504",
   "metadata": {
    "execution": {
     "iopub.execute_input": "2024-06-04T12:38:29.937184Z",
     "iopub.status.busy": "2024-06-04T12:38:29.936749Z",
     "iopub.status.idle": "2024-06-04T12:38:30.062590Z",
     "shell.execute_reply": "2024-06-04T12:38:30.061601Z"
    },
    "papermill": {
     "duration": 0.152752,
     "end_time": "2024-06-04T12:38:30.065354",
     "exception": false,
     "start_time": "2024-06-04T12:38:29.912602",
     "status": "completed"
    },
    "tags": []
   },
   "outputs": [],
   "source": [
    "# create optimizers\n",
    "\n",
    "optimz= tf.keras.optimizers.experimental.Adam()\n"
   ]
  },
  {
   "cell_type": "code",
   "execution_count": 19,
   "id": "608b1f8a",
   "metadata": {
    "execution": {
     "iopub.execute_input": "2024-06-04T12:38:30.112020Z",
     "iopub.status.busy": "2024-06-04T12:38:30.111314Z",
     "iopub.status.idle": "2024-06-04T12:38:30.129851Z",
     "shell.execute_reply": "2024-06-04T12:38:30.128694Z"
    },
    "papermill": {
     "duration": 0.044687,
     "end_time": "2024-06-04T12:38:30.132595",
     "exception": false,
     "start_time": "2024-06-04T12:38:30.087908",
     "status": "completed"
    },
    "tags": []
   },
   "outputs": [],
   "source": [
    "# compile  // using Binary Crossentropy\n",
    "\n",
    "Cla_M.compile(optimizer=optimz,loss='binary_crossentropy',metrics=['accuracy'])\n"
   ]
  },
  {
   "cell_type": "code",
   "execution_count": 20,
   "id": "21fe7c34",
   "metadata": {
    "execution": {
     "iopub.execute_input": "2024-06-04T12:38:30.178913Z",
     "iopub.status.busy": "2024-06-04T12:38:30.178497Z",
     "iopub.status.idle": "2024-06-04T12:38:36.213337Z",
     "shell.execute_reply": "2024-06-04T12:38:36.212116Z"
    },
    "papermill": {
     "duration": 6.060687,
     "end_time": "2024-06-04T12:38:36.215774",
     "exception": false,
     "start_time": "2024-06-04T12:38:30.155087",
     "status": "completed"
    },
    "tags": []
   },
   "outputs": [
    {
     "name": "stdout",
     "output_type": "stream",
     "text": [
      "Epoch 1/100\n",
      "22/22 [==============================] - 2s 33ms/step - loss: 0.2170 - accuracy: 0.8577 - val_loss: 0.0125 - val_accuracy: 0.9984\n",
      "Epoch 2/100\n",
      "22/22 [==============================] - 0s 18ms/step - loss: 0.0126 - accuracy: 0.9983 - val_loss: 0.0118 - val_accuracy: 0.9984\n",
      "Epoch 3/100\n",
      "22/22 [==============================] - 0s 18ms/step - loss: 0.0125 - accuracy: 0.9983 - val_loss: 0.0118 - val_accuracy: 0.9984\n",
      "Epoch 4/100\n",
      "22/22 [==============================] - 0s 18ms/step - loss: 0.0125 - accuracy: 0.9983 - val_loss: 0.0118 - val_accuracy: 0.9984\n",
      "Epoch 5/100\n",
      "22/22 [==============================] - 0s 18ms/step - loss: 0.0125 - accuracy: 0.9983 - val_loss: 0.0118 - val_accuracy: 0.9984\n",
      "Epoch 6/100\n",
      "22/22 [==============================] - 0s 18ms/step - loss: 0.0125 - accuracy: 0.9983 - val_loss: 0.0118 - val_accuracy: 0.9984\n",
      "Epoch 7/100\n",
      "22/22 [==============================] - 0s 18ms/step - loss: 0.0125 - accuracy: 0.9983 - val_loss: 0.0118 - val_accuracy: 0.9984\n",
      "Epoch 8/100\n",
      "22/22 [==============================] - 0s 18ms/step - loss: 0.0125 - accuracy: 0.9983 - val_loss: 0.0118 - val_accuracy: 0.9984\n",
      "Epoch 9/100\n",
      "22/22 [==============================] - 0s 18ms/step - loss: 0.0125 - accuracy: 0.9983 - val_loss: 0.0118 - val_accuracy: 0.9984\n",
      "Epoch 10/100\n",
      "22/22 [==============================] - 0s 18ms/step - loss: 0.0125 - accuracy: 0.9983 - val_loss: 0.0118 - val_accuracy: 0.9984\n",
      "Epoch 11/100\n",
      "22/22 [==============================] - 0s 18ms/step - loss: 0.0125 - accuracy: 0.9983 - val_loss: 0.0118 - val_accuracy: 0.9984\n"
     ]
    }
   ],
   "source": [
    "#fiting Model  \n",
    "\n",
    "Mod_fit = Cla_M.fit(X_train,y_train,\n",
    "              validation_data=(X_test,y_test),\n",
    "               epochs=100,\n",
    "              batch_size=10000, \n",
    "               verbose=1,\n",
    "              callbacks=[ tf.keras.callbacks.EarlyStopping(\n",
    "              patience=10,monitor='val_accuracy',restore_best_weights=True)])"
   ]
  },
  {
   "cell_type": "markdown",
   "id": "865dc2ff",
   "metadata": {
    "papermill": {
     "duration": 0.031235,
     "end_time": "2024-06-04T12:38:36.277470",
     "exception": false,
     "start_time": "2024-06-04T12:38:36.246235",
     "status": "completed"
    },
    "tags": []
   },
   "source": [
    "- Good Accuracy = 99.8 %"
   ]
  },
  {
   "cell_type": "code",
   "execution_count": 21,
   "id": "6cc24498",
   "metadata": {
    "execution": {
     "iopub.execute_input": "2024-06-04T12:38:36.342177Z",
     "iopub.status.busy": "2024-06-04T12:38:36.341738Z",
     "iopub.status.idle": "2024-06-04T12:38:36.366615Z",
     "shell.execute_reply": "2024-06-04T12:38:36.365470Z"
    },
    "papermill": {
     "duration": 0.065318,
     "end_time": "2024-06-04T12:38:36.374822",
     "exception": false,
     "start_time": "2024-06-04T12:38:36.309504",
     "status": "completed"
    },
    "tags": []
   },
   "outputs": [
    {
     "name": "stdout",
     "output_type": "stream",
     "text": [
      "Model: \"sequential\"\n",
      "_________________________________________________________________\n",
      " Layer (type)                Output Shape              Param #   \n",
      "=================================================================\n",
      " dense (Dense)               (None, 8)                 248       \n",
      "                                                                 \n",
      " dense_1 (Dense)             (None, 128)               1152      \n",
      "                                                                 \n",
      " dense_2 (Dense)             (None, 64)                8256      \n",
      "                                                                 \n",
      " dropout (Dropout)           (None, 64)                0         \n",
      "                                                                 \n",
      " dense_3 (Dense)             (None, 1)                 65        \n",
      "                                                                 \n",
      "=================================================================\n",
      "Total params: 9721 (37.97 KB)\n",
      "Trainable params: 9721 (37.97 KB)\n",
      "Non-trainable params: 0 (0.00 Byte)\n",
      "_________________________________________________________________\n"
     ]
    }
   ],
   "source": [
    "#The Summary \n",
    "\n",
    "Cla_M.summary()\n"
   ]
  },
  {
   "cell_type": "code",
   "execution_count": 22,
   "id": "b59582c7",
   "metadata": {
    "execution": {
     "iopub.execute_input": "2024-06-04T12:38:36.441724Z",
     "iopub.status.busy": "2024-06-04T12:38:36.441330Z",
     "iopub.status.idle": "2024-06-04T12:38:39.639558Z",
     "shell.execute_reply": "2024-06-04T12:38:39.638153Z"
    },
    "papermill": {
     "duration": 3.234242,
     "end_time": "2024-06-04T12:38:39.642044",
     "exception": false,
     "start_time": "2024-06-04T12:38:36.407802",
     "status": "completed"
    },
    "tags": []
   },
   "outputs": [
    {
     "name": "stdout",
     "output_type": "stream",
     "text": [
      "2217/2217 [==============================] - 3s 1ms/step - loss: 0.0125 - accuracy: 0.9984\n",
      "Model Loss :  0.01246852707117796\n",
      "Model Accuracy :  0.9984210133552551\n"
     ]
    }
   ],
   "source": [
    "# model Evaluate\n",
    "\n",
    "Model_loss, Model_Accuracy = Cla_M.evaluate(X_test,y_test)\n",
    "print(\"Model Loss : \" ,Model_loss )\n",
    "print(\"Model Accuracy : \" ,Model_Accuracy )"
   ]
  },
  {
   "cell_type": "code",
   "execution_count": 23,
   "id": "252d2074",
   "metadata": {
    "execution": {
     "iopub.execute_input": "2024-06-04T12:38:39.720467Z",
     "iopub.status.busy": "2024-06-04T12:38:39.720073Z",
     "iopub.status.idle": "2024-06-04T12:38:43.537309Z",
     "shell.execute_reply": "2024-06-04T12:38:43.536302Z"
    },
    "papermill": {
     "duration": 3.859397,
     "end_time": "2024-06-04T12:38:43.539928",
     "exception": false,
     "start_time": "2024-06-04T12:38:39.680531",
     "status": "completed"
    },
    "tags": []
   },
   "outputs": [
    {
     "name": "stdout",
     "output_type": "stream",
     "text": [
      "2217/2217 [==============================] - 3s 1ms/step\n"
     ]
    }
   ],
   "source": [
    "# make y prediction \n",
    "y_pred = Cla_M.predict(X_test)\n"
   ]
  },
  {
   "cell_type": "code",
   "execution_count": 24,
   "id": "23654a54",
   "metadata": {
    "execution": {
     "iopub.execute_input": "2024-06-04T12:38:43.628655Z",
     "iopub.status.busy": "2024-06-04T12:38:43.627640Z",
     "iopub.status.idle": "2024-06-04T12:38:43.635193Z",
     "shell.execute_reply": "2024-06-04T12:38:43.634152Z"
    },
    "papermill": {
     "duration": 0.05395,
     "end_time": "2024-06-04T12:38:43.637523",
     "exception": false,
     "start_time": "2024-06-04T12:38:43.583573",
     "status": "completed"
    },
    "tags": []
   },
   "outputs": [
    {
     "data": {
      "text/plain": [
       "array([[0.00356972],\n",
       "       [0.00356972],\n",
       "       [0.00356972],\n",
       "       ...,\n",
       "       [0.00356972],\n",
       "       [0.00356972],\n",
       "       [0.00356972]], dtype=float32)"
      ]
     },
     "execution_count": 24,
     "metadata": {},
     "output_type": "execute_result"
    }
   ],
   "source": [
    "y_pred\n"
   ]
  },
  {
   "cell_type": "code",
   "execution_count": 25,
   "id": "6413824d",
   "metadata": {
    "execution": {
     "iopub.execute_input": "2024-06-04T12:38:43.727338Z",
     "iopub.status.busy": "2024-06-04T12:38:43.726924Z",
     "iopub.status.idle": "2024-06-04T12:38:44.122527Z",
     "shell.execute_reply": "2024-06-04T12:38:44.121418Z"
    },
    "papermill": {
     "duration": 0.443474,
     "end_time": "2024-06-04T12:38:44.125362",
     "exception": false,
     "start_time": "2024-06-04T12:38:43.681888",
     "status": "completed"
    },
    "tags": []
   },
   "outputs": [],
   "source": [
    "# I need change / round the number to 0 or 1\n",
    "y_pred= [np.round(i[0]) for i in y_pred]\n"
   ]
  },
  {
   "cell_type": "code",
   "execution_count": 26,
   "id": "000140ce",
   "metadata": {
    "execution": {
     "iopub.execute_input": "2024-06-04T12:38:44.214468Z",
     "iopub.status.busy": "2024-06-04T12:38:44.213577Z",
     "iopub.status.idle": "2024-06-04T12:38:44.255444Z",
     "shell.execute_reply": "2024-06-04T12:38:44.254419Z"
    },
    "papermill": {
     "duration": 0.088962,
     "end_time": "2024-06-04T12:38:44.257776",
     "exception": false,
     "start_time": "2024-06-04T12:38:44.168814",
     "status": "completed"
    },
    "tags": []
   },
   "outputs": [
    {
     "data": {
      "text/plain": [
       "array([[70820,     0],\n",
       "       [  112,     0]])"
      ]
     },
     "execution_count": 26,
     "metadata": {},
     "output_type": "execute_result"
    }
   ],
   "source": [
    "# Confusion Matrix\n",
    "C_M = confusion_matrix(y_test,y_pred)\n",
    "C_M"
   ]
  },
  {
   "cell_type": "code",
   "execution_count": 27,
   "id": "99bc6c6a",
   "metadata": {
    "execution": {
     "iopub.execute_input": "2024-06-04T12:38:44.347587Z",
     "iopub.status.busy": "2024-06-04T12:38:44.347193Z",
     "iopub.status.idle": "2024-06-04T12:38:44.614993Z",
     "shell.execute_reply": "2024-06-04T12:38:44.613773Z"
    },
    "papermill": {
     "duration": 0.315865,
     "end_time": "2024-06-04T12:38:44.617427",
     "exception": false,
     "start_time": "2024-06-04T12:38:44.301562",
     "status": "completed"
    },
    "tags": []
   },
   "outputs": [
    {
     "data": {
      "text/plain": [
       "<Axes: >"
      ]
     },
     "execution_count": 27,
     "metadata": {},
     "output_type": "execute_result"
    },
    {
     "data": {
      "image/png": "[encoded data removed]",
      "text/plain": [
       "<Figure size 640x480 with 2 Axes>"
      ]
     },
     "metadata": {},
     "output_type": "display_data"
    }
   ],
   "source": [
    "sns.heatmap(C_M)\n"
   ]
  },
  {
   "cell_type": "code",
   "execution_count": 28,
   "id": "34d9d10c",
   "metadata": {
    "execution": {
     "iopub.execute_input": "2024-06-04T12:38:44.713201Z",
     "iopub.status.busy": "2024-06-04T12:38:44.712771Z",
     "iopub.status.idle": "2024-06-04T12:38:44.888792Z",
     "shell.execute_reply": "2024-06-04T12:38:44.887735Z"
    },
    "papermill": {
     "duration": 0.227513,
     "end_time": "2024-06-04T12:38:44.893128",
     "exception": false,
     "start_time": "2024-06-04T12:38:44.665615",
     "status": "completed"
    },
    "tags": []
   },
   "outputs": [
    {
     "name": "stdout",
     "output_type": "stream",
     "text": [
      "The Classification Report : \n",
      "               precision    recall  f1-score   support\n",
      "\n",
      "           0       1.00      1.00      1.00     70820\n",
      "           1       0.00      0.00      0.00       112\n",
      "\n",
      "    accuracy                           1.00     70932\n",
      "   macro avg       0.50      0.50      0.50     70932\n",
      "weighted avg       1.00      1.00      1.00     70932\n",
      "\n"
     ]
    },
    {
     "name": "stderr",
     "output_type": "stream",
     "text": [
      "/opt/conda/lib/python3.10/site-packages/sklearn/metrics/_classification.py:1344: UndefinedMetricWarning: Precision and F-score are ill-defined and being set to 0.0 in labels with no predicted samples. Use `zero_division` parameter to control this behavior.\n",
      "  _warn_prf(average, modifier, msg_start, len(result))\n",
      "/opt/conda/lib/python3.10/site-packages/sklearn/metrics/_classification.py:1344: UndefinedMetricWarning: Precision and F-score are ill-defined and being set to 0.0 in labels with no predicted samples. Use `zero_division` parameter to control this behavior.\n",
      "  _warn_prf(average, modifier, msg_start, len(result))\n",
      "/opt/conda/lib/python3.10/site-packages/sklearn/metrics/_classification.py:1344: UndefinedMetricWarning: Precision and F-score are ill-defined and being set to 0.0 in labels with no predicted samples. Use `zero_division` parameter to control this behavior.\n",
      "  _warn_prf(average, modifier, msg_start, len(result))\n"
     ]
    }
   ],
   "source": [
    "# Classifcation Report\n",
    "C_R = classification_report(y_test,y_pred)\n",
    "print(\"The Classification Report : \\n\", C_R)"
   ]
  },
  {
   "cell_type": "code",
   "execution_count": 29,
   "id": "e458415a",
   "metadata": {
    "execution": {
     "iopub.execute_input": "2024-06-04T12:38:44.996958Z",
     "iopub.status.busy": "2024-06-04T12:38:44.996047Z",
     "iopub.status.idle": "2024-06-04T12:38:45.525006Z",
     "shell.execute_reply": "2024-06-04T12:38:45.523825Z"
    },
    "papermill": {
     "duration": 0.579245,
     "end_time": "2024-06-04T12:38:45.527570",
     "exception": false,
     "start_time": "2024-06-04T12:38:44.948325",
     "status": "completed"
    },
    "tags": []
   },
   "outputs": [
    {
     "data": {
      "image/png": "[encoded data removed]",
      "text/plain": [
       "<Figure size 640x480 with 1 Axes>"
      ]
     },
     "metadata": {},
     "output_type": "display_data"
    }
   ],
   "source": [
    "# Drow the Model Accuracy \n",
    "\n",
    "plt.plot(Mod_fit.history[\"accuracy\"])\n",
    "plt.plot(Mod_fit.history[\"val_accuracy\"])\n",
    "plt.title(\"Model Accuracy\")\n",
    "plt.ylabel(\"Accuracy\")\n",
    "plt.xlabel(\"Epoch\")\n",
    "plt.legend([\"Train\",\"Validation\"])\n",
    "plt.show()"
   ]
  },
  {
   "cell_type": "code",
   "execution_count": 30,
   "id": "17e9bb30",
   "metadata": {
    "execution": {
     "iopub.execute_input": "2024-06-04T12:38:45.619228Z",
     "iopub.status.busy": "2024-06-04T12:38:45.618837Z",
     "iopub.status.idle": "2024-06-04T12:38:45.855440Z",
     "shell.execute_reply": "2024-06-04T12:38:45.854365Z"
    },
    "papermill": {
     "duration": 0.285523,
     "end_time": "2024-06-04T12:38:45.857758",
     "exception": false,
     "start_time": "2024-06-04T12:38:45.572235",
     "status": "completed"
    },
    "tags": []
   },
   "outputs": [
    {
     "data": {
      "image/png": "[encoded data removed]",
      "text/plain": [
       "<Figure size 640x480 with 1 Axes>"
      ]
     },
     "metadata": {},
     "output_type": "display_data"
    }
   ],
   "source": [
    "# Drow the Model Loss \n",
    "\n",
    "plt.plot(Mod_fit.history[\"loss\"])\n",
    "plt.plot(Mod_fit.history[\"val_loss\"])\n",
    "plt.title(\"Model Loss\")\n",
    "plt.ylabel(\"Loss\")\n",
    "plt.xlabel(\"Epoch\")\n",
    "plt.legend([\"Train\",\"Validation\"])\n",
    "plt.show()"
   ]
  },
  {
   "cell_type": "code",
   "execution_count": null,
   "id": "99bb45b6",
   "metadata": {
    "papermill": {
     "duration": 0.045741,
     "end_time": "2024-06-04T12:38:45.948889",
     "exception": false,
     "start_time": "2024-06-04T12:38:45.903148",
     "status": "completed"
    },
    "tags": []
   },
   "outputs": [],
   "source": []
  },
  {
   "cell_type": "markdown",
   "id": "6b1b97d5",
   "metadata": {
    "papermill": {
     "duration": 0.04583,
     "end_time": "2024-06-04T12:38:46.041733",
     "exception": false,
     "start_time": "2024-06-04T12:38:45.995903",
     "status": "completed"
    },
    "tags": []
   },
   "source": [
    "<a id=\"3\"></a>\n",
    "# <p style=\"padding:10px;background-color:#ff96ff;margin:0;color:#660066;font-family:newtimeroman;font-size:100%;text-align:center;border-radius: 15px 50px;overflow:hidden;font-weight:500\">4️⃣ Building a Machine Learning Model || Classification - Before Feature Selection</p>"
   ]
  },
  {
   "cell_type": "code",
   "execution_count": 31,
   "id": "0f4b7ee0",
   "metadata": {
    "execution": {
     "iopub.execute_input": "2024-06-04T12:38:46.134280Z",
     "iopub.status.busy": "2024-06-04T12:38:46.133868Z",
     "iopub.status.idle": "2024-06-04T12:38:46.152459Z",
     "shell.execute_reply": "2024-06-04T12:38:46.151554Z"
    },
    "papermill": {
     "duration": 0.067664,
     "end_time": "2024-06-04T12:38:46.155001",
     "exception": false,
     "start_time": "2024-06-04T12:38:46.087337",
     "status": "completed"
    },
    "tags": []
   },
   "outputs": [],
   "source": [
    "# import model Feature selection for choice number of columns depends on the correlation between the values and the output\n",
    "\n",
    "from sklearn.feature_selection import SelectPercentile"
   ]
  },
  {
   "cell_type": "code",
   "execution_count": 32,
   "id": "bd6a7e67",
   "metadata": {
    "execution": {
     "iopub.execute_input": "2024-06-04T12:38:46.248435Z",
     "iopub.status.busy": "2024-06-04T12:38:46.248038Z",
     "iopub.status.idle": "2024-06-04T12:38:46.252960Z",
     "shell.execute_reply": "2024-06-04T12:38:46.251850Z"
    },
    "papermill": {
     "duration": 0.054704,
     "end_time": "2024-06-04T12:38:46.255706",
     "exception": false,
     "start_time": "2024-06-04T12:38:46.201002",
     "status": "completed"
    },
    "tags": []
   },
   "outputs": [],
   "source": [
    "# we need choice 50 % of the feature\n",
    "\n",
    "F_50 = SelectPercentile( percentile= 50)"
   ]
  },
  {
   "cell_type": "code",
   "execution_count": 33,
   "id": "b6cb488a",
   "metadata": {
    "execution": {
     "iopub.execute_input": "2024-06-04T12:38:46.349384Z",
     "iopub.status.busy": "2024-06-04T12:38:46.348958Z",
     "iopub.status.idle": "2024-06-04T12:38:46.530348Z",
     "shell.execute_reply": "2024-06-04T12:38:46.529428Z"
    },
    "papermill": {
     "duration": 0.231773,
     "end_time": "2024-06-04T12:38:46.532979",
     "exception": false,
     "start_time": "2024-06-04T12:38:46.301206",
     "status": "completed"
    },
    "tags": []
   },
   "outputs": [],
   "source": [
    "#make the transform\n",
    "\n",
    "set_X = F_50.fit_transform(X,y)"
   ]
  },
  {
   "cell_type": "code",
   "execution_count": 34,
   "id": "b2f04e95",
   "metadata": {
    "execution": {
     "iopub.execute_input": "2024-06-04T12:38:46.630531Z",
     "iopub.status.busy": "2024-06-04T12:38:46.630128Z",
     "iopub.status.idle": "2024-06-04T12:38:46.658349Z",
     "shell.execute_reply": "2024-06-04T12:38:46.657319Z"
    },
    "papermill": {
     "duration": 0.07903,
     "end_time": "2024-06-04T12:38:46.660807",
     "exception": false,
     "start_time": "2024-06-04T12:38:46.581777",
     "status": "completed"
    },
    "tags": []
   },
   "outputs": [
    {
     "data": {
      "text/html": [
       "<div>\n",
       "<style scoped>\n",
       "    .dataframe tbody tr th:only-of-type {\n",
       "        vertical-align: middle;\n",
       "    }\n",
       "\n",
       "    .dataframe tbody tr th {\n",
       "        vertical-align: top;\n",
       "    }\n",
       "\n",
       "    .dataframe thead th {\n",
       "        text-align: right;\n",
       "    }\n",
       "</style>\n",
       "<table border=\"1\" class=\"dataframe\">\n",
       "  <thead>\n",
       "    <tr style=\"text-align: right;\">\n",
       "      <th></th>\n",
       "      <th>V1</th>\n",
       "      <th>V2</th>\n",
       "      <th>V3</th>\n",
       "      <th>V4</th>\n",
       "      <th>V5</th>\n",
       "      <th>V6</th>\n",
       "      <th>V7</th>\n",
       "      <th>V9</th>\n",
       "      <th>V10</th>\n",
       "      <th>V11</th>\n",
       "      <th>V12</th>\n",
       "      <th>V14</th>\n",
       "      <th>V16</th>\n",
       "      <th>V17</th>\n",
       "      <th>V18</th>\n",
       "    </tr>\n",
       "  </thead>\n",
       "  <tbody>\n",
       "    <tr>\n",
       "      <th>0</th>\n",
       "      <td>-1.359807</td>\n",
       "      <td>-0.072781</td>\n",
       "      <td>2.536347</td>\n",
       "      <td>1.378155</td>\n",
       "      <td>-0.338321</td>\n",
       "      <td>0.462388</td>\n",
       "      <td>0.239599</td>\n",
       "      <td>0.363787</td>\n",
       "      <td>0.090794</td>\n",
       "      <td>-0.551600</td>\n",
       "      <td>-0.617801</td>\n",
       "      <td>-0.311169</td>\n",
       "      <td>-0.470401</td>\n",
       "      <td>0.207971</td>\n",
       "      <td>0.025791</td>\n",
       "    </tr>\n",
       "    <tr>\n",
       "      <th>1</th>\n",
       "      <td>1.191857</td>\n",
       "      <td>0.266151</td>\n",
       "      <td>0.166480</td>\n",
       "      <td>0.448154</td>\n",
       "      <td>0.060018</td>\n",
       "      <td>-0.082361</td>\n",
       "      <td>-0.078803</td>\n",
       "      <td>-0.255425</td>\n",
       "      <td>-0.166974</td>\n",
       "      <td>1.612727</td>\n",
       "      <td>1.065235</td>\n",
       "      <td>-0.143772</td>\n",
       "      <td>0.463917</td>\n",
       "      <td>-0.114805</td>\n",
       "      <td>-0.183361</td>\n",
       "    </tr>\n",
       "    <tr>\n",
       "      <th>2</th>\n",
       "      <td>-1.358354</td>\n",
       "      <td>-1.340163</td>\n",
       "      <td>1.773209</td>\n",
       "      <td>0.379780</td>\n",
       "      <td>-0.503198</td>\n",
       "      <td>1.800499</td>\n",
       "      <td>0.791461</td>\n",
       "      <td>-1.514654</td>\n",
       "      <td>0.207643</td>\n",
       "      <td>0.624501</td>\n",
       "      <td>0.066084</td>\n",
       "      <td>-0.165946</td>\n",
       "      <td>-2.890083</td>\n",
       "      <td>1.109969</td>\n",
       "      <td>-0.121359</td>\n",
       "    </tr>\n",
       "    <tr>\n",
       "      <th>3</th>\n",
       "      <td>-0.966272</td>\n",
       "      <td>-0.185226</td>\n",
       "      <td>1.792993</td>\n",
       "      <td>-0.863291</td>\n",
       "      <td>-0.010309</td>\n",
       "      <td>1.247203</td>\n",
       "      <td>0.237609</td>\n",
       "      <td>-1.387024</td>\n",
       "      <td>-0.054952</td>\n",
       "      <td>-0.226487</td>\n",
       "      <td>0.178228</td>\n",
       "      <td>-0.287924</td>\n",
       "      <td>-1.059647</td>\n",
       "      <td>-0.684093</td>\n",
       "      <td>1.965775</td>\n",
       "    </tr>\n",
       "    <tr>\n",
       "      <th>4</th>\n",
       "      <td>-1.158233</td>\n",
       "      <td>0.877737</td>\n",
       "      <td>1.548718</td>\n",
       "      <td>0.403034</td>\n",
       "      <td>-0.407193</td>\n",
       "      <td>0.095921</td>\n",
       "      <td>0.592941</td>\n",
       "      <td>0.817739</td>\n",
       "      <td>0.753074</td>\n",
       "      <td>-0.822843</td>\n",
       "      <td>0.538196</td>\n",
       "      <td>-1.119670</td>\n",
       "      <td>-0.451449</td>\n",
       "      <td>-0.237033</td>\n",
       "      <td>-0.038195</td>\n",
       "    </tr>\n",
       "    <tr>\n",
       "      <th>...</th>\n",
       "      <td>...</td>\n",
       "      <td>...</td>\n",
       "      <td>...</td>\n",
       "      <td>...</td>\n",
       "      <td>...</td>\n",
       "      <td>...</td>\n",
       "      <td>...</td>\n",
       "      <td>...</td>\n",
       "      <td>...</td>\n",
       "      <td>...</td>\n",
       "      <td>...</td>\n",
       "      <td>...</td>\n",
       "      <td>...</td>\n",
       "      <td>...</td>\n",
       "      <td>...</td>\n",
       "    </tr>\n",
       "    <tr>\n",
       "      <th>283721</th>\n",
       "      <td>-11.881118</td>\n",
       "      <td>10.071785</td>\n",
       "      <td>-9.834783</td>\n",
       "      <td>-2.066656</td>\n",
       "      <td>-5.364473</td>\n",
       "      <td>-2.606837</td>\n",
       "      <td>-4.918215</td>\n",
       "      <td>1.914428</td>\n",
       "      <td>4.356170</td>\n",
       "      <td>-1.593105</td>\n",
       "      <td>2.711941</td>\n",
       "      <td>4.626942</td>\n",
       "      <td>1.107641</td>\n",
       "      <td>1.991691</td>\n",
       "      <td>0.510632</td>\n",
       "    </tr>\n",
       "    <tr>\n",
       "      <th>283722</th>\n",
       "      <td>-0.732789</td>\n",
       "      <td>-0.055080</td>\n",
       "      <td>2.035030</td>\n",
       "      <td>-0.738589</td>\n",
       "      <td>0.868229</td>\n",
       "      <td>1.058415</td>\n",
       "      <td>0.024330</td>\n",
       "      <td>0.584800</td>\n",
       "      <td>-0.975926</td>\n",
       "      <td>-0.150189</td>\n",
       "      <td>0.915802</td>\n",
       "      <td>-0.675143</td>\n",
       "      <td>-0.711757</td>\n",
       "      <td>-0.025693</td>\n",
       "      <td>-1.221179</td>\n",
       "    </tr>\n",
       "    <tr>\n",
       "      <th>283723</th>\n",
       "      <td>1.919565</td>\n",
       "      <td>-0.301254</td>\n",
       "      <td>-3.249640</td>\n",
       "      <td>-0.557828</td>\n",
       "      <td>2.630515</td>\n",
       "      <td>3.031260</td>\n",
       "      <td>-0.296827</td>\n",
       "      <td>0.432454</td>\n",
       "      <td>-0.484782</td>\n",
       "      <td>0.411614</td>\n",
       "      <td>0.063119</td>\n",
       "      <td>-0.510602</td>\n",
       "      <td>0.140716</td>\n",
       "      <td>0.313502</td>\n",
       "      <td>0.395652</td>\n",
       "    </tr>\n",
       "    <tr>\n",
       "      <th>283724</th>\n",
       "      <td>-0.240440</td>\n",
       "      <td>0.530483</td>\n",
       "      <td>0.702510</td>\n",
       "      <td>0.689799</td>\n",
       "      <td>-0.377961</td>\n",
       "      <td>0.623708</td>\n",
       "      <td>-0.686180</td>\n",
       "      <td>0.392087</td>\n",
       "      <td>-0.399126</td>\n",
       "      <td>-1.933849</td>\n",
       "      <td>-0.962886</td>\n",
       "      <td>0.449624</td>\n",
       "      <td>-0.608577</td>\n",
       "      <td>0.509928</td>\n",
       "      <td>1.113981</td>\n",
       "    </tr>\n",
       "    <tr>\n",
       "      <th>283725</th>\n",
       "      <td>-0.533413</td>\n",
       "      <td>-0.189733</td>\n",
       "      <td>0.703337</td>\n",
       "      <td>-0.506271</td>\n",
       "      <td>-0.012546</td>\n",
       "      <td>-0.649617</td>\n",
       "      <td>1.577006</td>\n",
       "      <td>0.486180</td>\n",
       "      <td>-0.915427</td>\n",
       "      <td>-1.040458</td>\n",
       "      <td>-0.031513</td>\n",
       "      <td>-0.084316</td>\n",
       "      <td>-0.302620</td>\n",
       "      <td>-0.660377</td>\n",
       "      <td>0.167430</td>\n",
       "    </tr>\n",
       "  </tbody>\n",
       "</table>\n",
       "<p>283726 rows × 15 columns</p>\n",
       "</div>"
      ],
      "text/plain": [
       "               V1         V2        V3        V4        V5        V6  \\\n",
       "0       -1.359807  -0.072781  2.536347  1.378155 -0.338321  0.462388   \n",
       "1        1.191857   0.266151  0.166480  0.448154  0.060018 -0.082361   \n",
       "2       -1.358354  -1.340163  1.773209  0.379780 -0.503198  1.800499   \n",
       "3       -0.966272  -0.185226  1.792993 -0.863291 -0.010309  1.247203   \n",
       "4       -1.158233   0.877737  1.548718  0.403034 -0.407193  0.095921   \n",
       "...           ...        ...       ...       ...       ...       ...   \n",
       "283721 -11.881118  10.071785 -9.834783 -2.066656 -5.364473 -2.606837   \n",
       "283722  -0.732789  -0.055080  2.035030 -0.738589  0.868229  1.058415   \n",
       "283723   1.919565  -0.301254 -3.249640 -0.557828  2.630515  3.031260   \n",
       "283724  -0.240440   0.530483  0.702510  0.689799 -0.377961  0.623708   \n",
       "283725  -0.533413  -0.189733  0.703337 -0.506271 -0.012546 -0.649617   \n",
       "\n",
       "              V7        V9       V10       V11       V12       V14       V16  \\\n",
       "0       0.239599  0.363787  0.090794 -0.551600 -0.617801 -0.311169 -0.470401   \n",
       "1      -0.078803 -0.255425 -0.166974  1.612727  1.065235 -0.143772  0.463917   \n",
       "2       0.791461 -1.514654  0.207643  0.624501  0.066084 -0.165946 -2.890083   \n",
       "3       0.237609 -1.387024 -0.054952 -0.226487  0.178228 -0.287924 -1.059647   \n",
       "4       0.592941  0.817739  0.753074 -0.822843  0.538196 -1.119670 -0.451449   \n",
       "...          ...       ...       ...       ...       ...       ...       ...   \n",
       "283721 -4.918215  1.914428  4.356170 -1.593105  2.711941  4.626942  1.107641   \n",
       "283722  0.024330  0.584800 -0.975926 -0.150189  0.915802 -0.675143 -0.711757   \n",
       "283723 -0.296827  0.432454 -0.484782  0.411614  0.063119 -0.510602  0.140716   \n",
       "283724 -0.686180  0.392087 -0.399126 -1.933849 -0.962886  0.449624 -0.608577   \n",
       "283725  1.577006  0.486180 -0.915427 -1.040458 -0.031513 -0.084316 -0.302620   \n",
       "\n",
       "             V17       V18  \n",
       "0       0.207971  0.025791  \n",
       "1      -0.114805 -0.183361  \n",
       "2       1.109969 -0.121359  \n",
       "3      -0.684093  1.965775  \n",
       "4      -0.237033 -0.038195  \n",
       "...          ...       ...  \n",
       "283721  1.991691  0.510632  \n",
       "283722 -0.025693 -1.221179  \n",
       "283723  0.313502  0.395652  \n",
       "283724  0.509928  1.113981  \n",
       "283725 -0.660377  0.167430  \n",
       "\n",
       "[283726 rows x 15 columns]"
      ]
     },
     "execution_count": 34,
     "metadata": {},
     "output_type": "execute_result"
    }
   ],
   "source": [
    "#now choice 50% of the original data and put in the new DataFrame and put the same header name from the original data\n",
    "\n",
    "new_x =pd.DataFrame(set_X,columns= [ i for i,j in zip (X.columns, F_50.get_support()) if j == True ])\n",
    "new_x"
   ]
  },
  {
   "cell_type": "markdown",
   "id": "ad6f0d7f",
   "metadata": {
    "papermill": {
     "duration": 0.045882,
     "end_time": "2024-06-04T12:38:46.752915",
     "exception": false,
     "start_time": "2024-06-04T12:38:46.707033",
     "status": "completed"
    },
    "tags": []
   },
   "source": [
    "- This columns we need after the python choice "
   ]
  },
  {
   "cell_type": "code",
   "execution_count": 35,
   "id": "66c02640",
   "metadata": {
    "execution": {
     "iopub.execute_input": "2024-06-04T12:38:46.845572Z",
     "iopub.status.busy": "2024-06-04T12:38:46.845181Z",
     "iopub.status.idle": "2024-06-04T12:38:46.853271Z",
     "shell.execute_reply": "2024-06-04T12:38:46.852209Z"
    },
    "papermill": {
     "duration": 0.057499,
     "end_time": "2024-06-04T12:38:46.855806",
     "exception": false,
     "start_time": "2024-06-04T12:38:46.798307",
     "status": "completed"
    },
    "tags": []
   },
   "outputs": [
    {
     "data": {
      "text/plain": [
       "0         0\n",
       "1         0\n",
       "2         0\n",
       "3         0\n",
       "4         0\n",
       "         ..\n",
       "284802    0\n",
       "284803    0\n",
       "284804    0\n",
       "284805    0\n",
       "284806    0\n",
       "Name: Class, Length: 283726, dtype: int64"
      ]
     },
     "execution_count": 35,
     "metadata": {},
     "output_type": "execute_result"
    }
   ],
   "source": [
    "# y columns , it`s the same columns - calss\n",
    "y"
   ]
  },
  {
   "cell_type": "code",
   "execution_count": 36,
   "id": "8fd2035f",
   "metadata": {
    "execution": {
     "iopub.execute_input": "2024-06-04T12:38:46.975672Z",
     "iopub.status.busy": "2024-06-04T12:38:46.975290Z",
     "iopub.status.idle": "2024-06-04T12:38:47.030832Z",
     "shell.execute_reply": "2024-06-04T12:38:47.029411Z"
    },
    "papermill": {
     "duration": 0.106585,
     "end_time": "2024-06-04T12:38:47.033506",
     "exception": false,
     "start_time": "2024-06-04T12:38:46.926921",
     "status": "completed"
    },
    "tags": []
   },
   "outputs": [
    {
     "name": "stdout",
     "output_type": "stream",
     "text": [
      "X Train :  (212794, 15)\n",
      "X Test  :  (70932, 15)\n",
      "Y Train :  (212794,)\n",
      "Y Test  :  (70932,)\n"
     ]
    }
   ],
   "source": [
    "# split the new data \n",
    "\n",
    "X = new_x      \n",
    "y = df[\"Class\"]    # y = class\n",
    "\n",
    "# split the data train and test\n",
    "X_train, X_test, y_train, y_test = train_test_split(X, y, test_size=0.25, random_state=42)\n",
    "\n",
    "print(\"X Train : \", X_train.shape)\n",
    "print(\"X Test  : \", X_test.shape)\n",
    "print(\"Y Train : \", y_train.shape)\n",
    "print(\"Y Test  : \", y_test.shape)"
   ]
  },
  {
   "cell_type": "code",
   "execution_count": 37,
   "id": "bb1f4012",
   "metadata": {
    "execution": {
     "iopub.execute_input": "2024-06-04T12:38:47.127632Z",
     "iopub.status.busy": "2024-06-04T12:38:47.127248Z",
     "iopub.status.idle": "2024-06-04T12:48:43.184524Z",
     "shell.execute_reply": "2024-06-04T12:48:43.183322Z"
    },
    "papermill": {
     "duration": 596.153186,
     "end_time": "2024-06-04T12:48:43.233088",
     "exception": false,
     "start_time": "2024-06-04T12:38:47.079902",
     "status": "completed"
    },
    "tags": []
   },
   "outputs": [
    {
     "name": "stdout",
     "output_type": "stream",
     "text": [
      "LogisticRegression() :               precision    recall  f1-score   support\n",
      "\n",
      "           0       1.00      1.00      1.00     70820\n",
      "           1       0.90      0.54      0.67       112\n",
      "\n",
      "    accuracy                           1.00     70932\n",
      "   macro avg       0.95      0.77      0.83     70932\n",
      "weighted avg       1.00      1.00      1.00     70932\n",
      "\n",
      "********************************************\n",
      "DecisionTreeClassifier() :               precision    recall  f1-score   support\n",
      "\n",
      "           0       1.00      1.00      1.00     70820\n",
      "           1       0.75      0.69      0.72       112\n",
      "\n",
      "    accuracy                           1.00     70932\n",
      "   macro avg       0.87      0.84      0.86     70932\n",
      "weighted avg       1.00      1.00      1.00     70932\n",
      "\n",
      "********************************************\n",
      "RandomForestClassifier() :               precision    recall  f1-score   support\n",
      "\n",
      "           0       1.00      1.00      1.00     70820\n",
      "           1       0.94      0.74      0.83       112\n",
      "\n",
      "    accuracy                           1.00     70932\n",
      "   macro avg       0.97      0.87      0.91     70932\n",
      "weighted avg       1.00      1.00      1.00     70932\n",
      "\n",
      "********************************************\n",
      "KNeighborsClassifier() :               precision    recall  f1-score   support\n",
      "\n",
      "           0       1.00      1.00      1.00     70820\n",
      "           1       0.92      0.76      0.83       112\n",
      "\n",
      "    accuracy                           1.00     70932\n",
      "   macro avg       0.96      0.88      0.92     70932\n",
      "weighted avg       1.00      1.00      1.00     70932\n",
      "\n",
      "********************************************\n",
      "SVC() :               precision    recall  f1-score   support\n",
      "\n",
      "           0       1.00      1.00      1.00     70820\n",
      "           1       0.97      0.67      0.79       112\n",
      "\n",
      "    accuracy                           1.00     70932\n",
      "   macro avg       0.99      0.83      0.90     70932\n",
      "weighted avg       1.00      1.00      1.00     70932\n",
      "\n",
      "********************************************\n",
      "MLPClassifier() :               precision    recall  f1-score   support\n",
      "\n",
      "           0       1.00      1.00      1.00     70820\n",
      "           1       0.87      0.77      0.82       112\n",
      "\n",
      "    accuracy                           1.00     70932\n",
      "   macro avg       0.93      0.88      0.91     70932\n",
      "weighted avg       1.00      1.00      1.00     70932\n",
      "\n",
      "********************************************\n"
     ]
    }
   ],
   "source": [
    "# make for loop for classification \n",
    "\n",
    "li = [LR,DTR,RFR,KNR,SVC,MLP]\n",
    "\n",
    "for i in li:\n",
    "    i.fit(X_train,y_train)\n",
    "    ypred = i.predict(X_test)\n",
    "    print(i,\":\",classification_report(y_test,ypred))\n",
    "    print(\"********************************************\")"
   ]
  },
  {
   "cell_type": "markdown",
   "id": "89a9bab9",
   "metadata": {
    "papermill": {
     "duration": 0.046841,
     "end_time": "2024-06-04T12:48:43.326565",
     "exception": false,
     "start_time": "2024-06-04T12:48:43.279724",
     "status": "completed"
    },
    "tags": []
   },
   "source": [
    "<a id=\"3\"></a>\n",
    "# <p style=\"padding:10px;background-color:#ff96ff;margin:0;color:#660066;font-family:newtimeroman;font-size:100%;text-align:center;border-radius: 15px 50px;overflow:hidden;font-weight:500\">5️⃣Make Deep learning - Classification - After Feature Selection using || TensorFlow</p>"
   ]
  },
  {
   "cell_type": "code",
   "execution_count": 38,
   "id": "8f8e3d90",
   "metadata": {
    "execution": {
     "iopub.execute_input": "2024-06-04T12:48:43.421765Z",
     "iopub.status.busy": "2024-06-04T12:48:43.421397Z",
     "iopub.status.idle": "2024-06-04T12:48:43.439262Z",
     "shell.execute_reply": "2024-06-04T12:48:43.438296Z"
    },
    "papermill": {
     "duration": 0.068898,
     "end_time": "2024-06-04T12:48:43.441908",
     "exception": false,
     "start_time": "2024-06-04T12:48:43.373010",
     "status": "completed"
    },
    "tags": []
   },
   "outputs": [],
   "source": [
    "# Model Definition \n",
    "\n",
    "Cla_M1 = keras.models.Sequential([\n",
    "    \n",
    "    keras.layers.Dense(8,activation='tanh'),\n",
    "    keras.layers.Dense(128,activation=\"sigmoid\"),\n",
    "    keras.layers.Dense(64,activation=\"tanh\"),\n",
    "    keras.layers.Dropout(0,2),\n",
    "    keras.layers.Dense(1,activation='sigmoid') # we have one class 0 or 1\n",
    "    \n",
    "])"
   ]
  },
  {
   "cell_type": "code",
   "execution_count": 39,
   "id": "55513867",
   "metadata": {
    "execution": {
     "iopub.execute_input": "2024-06-04T12:48:43.537481Z",
     "iopub.status.busy": "2024-06-04T12:48:43.537076Z",
     "iopub.status.idle": "2024-06-04T12:48:43.543904Z",
     "shell.execute_reply": "2024-06-04T12:48:43.542935Z"
    },
    "papermill": {
     "duration": 0.057773,
     "end_time": "2024-06-04T12:48:43.546450",
     "exception": false,
     "start_time": "2024-06-04T12:48:43.488677",
     "status": "completed"
    },
    "tags": []
   },
   "outputs": [],
   "source": [
    "# create optimizers\n",
    "\n",
    "optimz= tf.keras.optimizers.experimental.Adam()"
   ]
  },
  {
   "cell_type": "code",
   "execution_count": 40,
   "id": "3123249c",
   "metadata": {
    "execution": {
     "iopub.execute_input": "2024-06-04T12:48:43.643048Z",
     "iopub.status.busy": "2024-06-04T12:48:43.642157Z",
     "iopub.status.idle": "2024-06-04T12:48:43.653957Z",
     "shell.execute_reply": "2024-06-04T12:48:43.652897Z"
    },
    "papermill": {
     "duration": 0.062253,
     "end_time": "2024-06-04T12:48:43.656382",
     "exception": false,
     "start_time": "2024-06-04T12:48:43.594129",
     "status": "completed"
    },
    "tags": []
   },
   "outputs": [],
   "source": [
    "# compile  // using Binary Crossentropy\n",
    "\n",
    "Cla_M1.compile(optimizer=optimz,loss='binary_crossentropy',metrics=['accuracy'])"
   ]
  },
  {
   "cell_type": "code",
   "execution_count": 41,
   "id": "e6a88b8f",
   "metadata": {
    "execution": {
     "iopub.execute_input": "2024-06-04T12:48:43.751762Z",
     "iopub.status.busy": "2024-06-04T12:48:43.751387Z",
     "iopub.status.idle": "2024-06-04T12:48:49.649153Z",
     "shell.execute_reply": "2024-06-04T12:48:49.647879Z"
    },
    "papermill": {
     "duration": 5.948161,
     "end_time": "2024-06-04T12:48:49.651774",
     "exception": false,
     "start_time": "2024-06-04T12:48:43.703613",
     "status": "completed"
    },
    "tags": []
   },
   "outputs": [
    {
     "name": "stdout",
     "output_type": "stream",
     "text": [
      "Epoch 1/100\n",
      "22/22 [==============================] - 2s 26ms/step - loss: 0.0980 - accuracy: 0.9982 - val_loss: 0.0122 - val_accuracy: 0.9984\n",
      "Epoch 2/100\n",
      "22/22 [==============================] - 0s 18ms/step - loss: 0.0125 - accuracy: 0.9983 - val_loss: 0.0115 - val_accuracy: 0.9984\n",
      "Epoch 3/100\n",
      "22/22 [==============================] - 0s 18ms/step - loss: 0.0122 - accuracy: 0.9983 - val_loss: 0.0113 - val_accuracy: 0.9984\n",
      "Epoch 4/100\n",
      "22/22 [==============================] - 0s 18ms/step - loss: 0.0119 - accuracy: 0.9983 - val_loss: 0.0111 - val_accuracy: 0.9984\n",
      "Epoch 5/100\n",
      "22/22 [==============================] - 0s 21ms/step - loss: 0.0117 - accuracy: 0.9983 - val_loss: 0.0108 - val_accuracy: 0.9984\n",
      "Epoch 6/100\n",
      "22/22 [==============================] - 0s 22ms/step - loss: 0.0113 - accuracy: 0.9983 - val_loss: 0.0105 - val_accuracy: 0.9984\n",
      "Epoch 7/100\n",
      "22/22 [==============================] - 0s 21ms/step - loss: 0.0109 - accuracy: 0.9983 - val_loss: 0.0101 - val_accuracy: 0.9984\n",
      "Epoch 8/100\n",
      "22/22 [==============================] - 1s 24ms/step - loss: 0.0104 - accuracy: 0.9983 - val_loss: 0.0096 - val_accuracy: 0.9984\n",
      "Epoch 9/100\n",
      "22/22 [==============================] - 0s 18ms/step - loss: 0.0099 - accuracy: 0.9983 - val_loss: 0.0091 - val_accuracy: 0.9984\n",
      "Epoch 10/100\n",
      "22/22 [==============================] - 0s 18ms/step - loss: 0.0093 - accuracy: 0.9983 - val_loss: 0.0086 - val_accuracy: 0.9984\n",
      "Epoch 11/100\n",
      "22/22 [==============================] - 0s 18ms/step - loss: 0.0087 - accuracy: 0.9983 - val_loss: 0.0080 - val_accuracy: 0.9984\n"
     ]
    }
   ],
   "source": [
    "#fiting Model  \n",
    "\n",
    "Mod_fit1 = Cla_M1.fit(X_train,y_train,\n",
    "              validation_data=(X_test,y_test),\n",
    "               epochs=100,\n",
    "              batch_size=10000, \n",
    "               verbose=1,\n",
    "              callbacks=[ tf.keras.callbacks.EarlyStopping(\n",
    "              patience=10,monitor='val_accuracy',restore_best_weights=True)])"
   ]
  },
  {
   "cell_type": "code",
   "execution_count": 42,
   "id": "42f00e6c",
   "metadata": {
    "execution": {
     "iopub.execute_input": "2024-06-04T12:48:49.765625Z",
     "iopub.status.busy": "2024-06-04T12:48:49.764656Z",
     "iopub.status.idle": "2024-06-04T12:48:49.790854Z",
     "shell.execute_reply": "2024-06-04T12:48:49.789692Z"
    },
    "papermill": {
     "duration": 0.088396,
     "end_time": "2024-06-04T12:48:49.795747",
     "exception": false,
     "start_time": "2024-06-04T12:48:49.707351",
     "status": "completed"
    },
    "tags": []
   },
   "outputs": [
    {
     "name": "stdout",
     "output_type": "stream",
     "text": [
      "Model: \"sequential\"\n",
      "_________________________________________________________________\n",
      " Layer (type)                Output Shape              Param #   \n",
      "=================================================================\n",
      " dense (Dense)               (None, 8)                 248       \n",
      "                                                                 \n",
      " dense_1 (Dense)             (None, 128)               1152      \n",
      "                                                                 \n",
      " dense_2 (Dense)             (None, 64)                8256      \n",
      "                                                                 \n",
      " dropout (Dropout)           (None, 64)                0         \n",
      "                                                                 \n",
      " dense_3 (Dense)             (None, 1)                 65        \n",
      "                                                                 \n",
      "=================================================================\n",
      "Total params: 9721 (37.97 KB)\n",
      "Trainable params: 9721 (37.97 KB)\n",
      "Non-trainable params: 0 (0.00 Byte)\n",
      "_________________________________________________________________\n"
     ]
    }
   ],
   "source": [
    "#The Summary \n",
    "\n",
    "Cla_M.summary()"
   ]
  },
  {
   "cell_type": "code",
   "execution_count": 43,
   "id": "bf8c40b0",
   "metadata": {
    "execution": {
     "iopub.execute_input": "2024-06-04T12:48:49.914275Z",
     "iopub.status.busy": "2024-06-04T12:48:49.913223Z",
     "iopub.status.idle": "2024-06-04T12:48:53.188749Z",
     "shell.execute_reply": "2024-06-04T12:48:53.187754Z"
    },
    "papermill": {
     "duration": 3.336974,
     "end_time": "2024-06-04T12:48:53.191352",
     "exception": false,
     "start_time": "2024-06-04T12:48:49.854378",
     "status": "completed"
    },
    "tags": []
   },
   "outputs": [
    {
     "name": "stdout",
     "output_type": "stream",
     "text": [
      "2217/2217 [==============================] - 3s 1ms/step - loss: 0.0122 - accuracy: 0.9984\n",
      "Model Loss :  0.012237709015607834\n",
      "Model Accuracy :  0.9984210133552551\n"
     ]
    }
   ],
   "source": [
    "# model Evaluate\n",
    "\n",
    "Model_loss, Model_Accuracy = Cla_M1.evaluate(X_test,y_test)\n",
    "print(\"Model Loss : \" ,Model_loss )\n",
    "print(\"Model Accuracy : \" ,Model_Accuracy )"
   ]
  },
  {
   "cell_type": "markdown",
   "id": "98a813c6",
   "metadata": {
    "papermill": {
     "duration": 0.065131,
     "end_time": "2024-06-04T12:48:53.320445",
     "exception": false,
     "start_time": "2024-06-04T12:48:53.255314",
     "status": "completed"
    },
    "tags": []
   },
   "source": [
    "- The same results after feature selection"
   ]
  },
  {
   "cell_type": "code",
   "execution_count": null,
   "id": "c93f5a32",
   "metadata": {
    "papermill": {
     "duration": 0.064034,
     "end_time": "2024-06-04T12:48:53.449330",
     "exception": false,
     "start_time": "2024-06-04T12:48:53.385296",
     "status": "completed"
    },
    "tags": []
   },
   "outputs": [],
   "source": []
  },
  {
   "cell_type": "markdown",
   "id": "01f2a944",
   "metadata": {
    "papermill": {
     "duration": 0.063508,
     "end_time": "2024-06-04T12:48:53.577722",
     "exception": false,
     "start_time": "2024-06-04T12:48:53.514214",
     "status": "completed"
    },
    "tags": []
   },
   "source": [
    "# <div style = 'border : 3px solid non; background-color:#ffffff;font-family:Gabriola;color:#000080; ; ;padding:10px'>\n",
    "<p style=\"font-family:Georgia;padding:20px;line-height:25px;\";><font style=\"font-family:Georgia; font-size:150%;\">   </font>\n",
    "    <p style = \"font-size:200%; color:#800080\"> 📌 Result ML</p>\n",
    "    \n",
    "- We see the results after select 50 % of columns ,better than before without select 50 % of columns"
   ]
  },
  {
   "cell_type": "markdown",
   "id": "563c34f3",
   "metadata": {
    "papermill": {
     "duration": 0.064364,
     "end_time": "2024-06-04T12:48:53.705727",
     "exception": false,
     "start_time": "2024-06-04T12:48:53.641363",
     "status": "completed"
    },
    "tags": []
   },
   "source": [
    "#  📲 Connect me:\n",
    "-  <a href=\"https://www.kaggle.com/qusaybtoush1990\">kaggle</a>\n",
    "-  <a href=\"https://www.linkedin.com/in/qusayal-btoush/\">Linkedin</a>\n",
    "-  <a href=\"https://github.com/qusaybtoush\">github</a>"
   ]
  },
  {
   "cell_type": "markdown",
   "id": "9829b0bc",
   "metadata": {
    "execution": {
     "iopub.execute_input": "2024-02-12T14:33:56.274391Z",
     "iopub.status.busy": "2024-02-12T14:33:56.273945Z",
     "iopub.status.idle": "2024-02-12T14:33:56.282930Z",
     "shell.execute_reply": "2024-02-12T14:33:56.281394Z",
     "shell.execute_reply.started": "2024-02-12T14:33:56.274361Z"
    },
    "papermill": {
     "duration": 0.064282,
     "end_time": "2024-06-04T12:48:53.833918",
     "exception": false,
     "start_time": "2024-06-04T12:48:53.769636",
     "status": "completed"
    },
    "tags": []
   },
   "source": [
    "# Vote ❤️😃\n",
    "- Please Upvote my kernel if you like my work.🙌\n",
    "\n",
    "# The End 🤝🎉🤝🎉\n",
    "### 🖐 Thank you 🙏"
   ]
  }
 ],
 "metadata": {
  "kaggle": {
   "accelerator": "none",
   "dataSources": [
    {
     "datasetId": 310,
     "sourceId": 23498,
     "sourceType": "datasetVersion"
    }
   ],
   "dockerImageVersionId": 30646,
   "isGpuEnabled": false,
   "isInternetEnabled": true,
   "language": "python",
   "sourceType": "notebook"
  },
  "kernelspec": {
   "display_name": "Python 3",
   "language": "python",
   "name": "python3"
  },
  "language_info": {
   "codemirror_mode": {
    "name": "ipython",
    "version": 3
   },
   "file_extension": ".py",
   "mimetype": "text/x-python",
   "name": "python",
   "nbconvert_exporter": "python",
   "pygments_lexer": "ipython3",
   "version": "3.10.13"
  },
  "papermill": {
   "default_parameters": {},
   "duration": 1146.773475,
   "end_time": "2024-06-04T12:48:56.315244",
   "environment_variables": {},
   "exception": null,
   "input_path": "__notebook__.ipynb",
   "output_path": "__notebook__.ipynb",
   "parameters": {},
   "start_time": "2024-06-04T12:29:49.541769",
   "version": "2.5.0"
  }
 },
 "nbformat": 4,
 "nbformat_minor": 5
}
